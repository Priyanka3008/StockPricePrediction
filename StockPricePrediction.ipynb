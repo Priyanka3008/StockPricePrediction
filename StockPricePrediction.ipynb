{
  "nbformat": 4,
  "nbformat_minor": 0,
  "metadata": {
    "colab": {
      "provenance": [],
      "authorship_tag": "ABX9TyPx2ZCiOuPAcB24LQS2mgCW",
      "include_colab_link": true
    },
    "kernelspec": {
      "name": "python3",
      "display_name": "Python 3"
    },
    "language_info": {
      "name": "python"
    }
  },
  "cells": [
    {
      "cell_type": "markdown",
      "metadata": {
        "id": "view-in-github",
        "colab_type": "text"
      },
      "source": [
        "<a href=\"https://colab.research.google.com/github/Priyanka3008/StockPricePrediction/blob/main/StockPricePrediction.ipynb\" target=\"_parent\"><img src=\"https://colab.research.google.com/assets/colab-badge.svg\" alt=\"Open In Colab\"/></a>"
      ]
    },
    {
      "cell_type": "markdown",
      "source": [
        "# **Data Collection**\n",
        "Source of the Dataset: Yahoo Finance"
      ],
      "metadata": {
        "id": "jot1MdzsTnJb"
      }
    },
    {
      "cell_type": "code",
      "execution_count": null,
      "metadata": {
        "colab": {
          "base_uri": "https://localhost:8080/"
        },
        "id": "q-bYitCSPXFT",
        "outputId": "001c123a-3e4a-4845-c989-0ee70c31e830"
      },
      "outputs": [
        {
          "output_type": "stream",
          "name": "stderr",
          "text": [
            "\r[*********************100%%**********************]  1 of 1 completed"
          ]
        },
        {
          "output_type": "stream",
          "name": "stdout",
          "text": [
            "                Open      High       Low     Close  Adj Close      Volume\n",
            "Date                                                                     \n",
            "2008-01-02  7.116786  7.152143  6.876786  6.958571   5.883145  1079178800\n",
            "2008-01-03  6.978929  7.049643  6.881786  6.961786   5.885862   842066400\n",
            "2008-01-04  6.837500  6.892857  6.388929  6.430357   5.436563  1455832000\n",
            "2008-01-07  6.473214  6.557143  6.079643  6.344286   5.363794  2072193200\n",
            "2008-01-08  6.433571  6.516429  6.100000  6.116071   5.170849  1523816000\n"
          ]
        },
        {
          "output_type": "stream",
          "name": "stderr",
          "text": [
            "\n"
          ]
        }
      ],
      "source": [
        "import yfinance as yf\n",
        "data=yf.download('AAPL',start='2008-01-01',end='2024-01-01')\n",
        "print(data.head())"
      ]
    },
    {
      "cell_type": "code",
      "source": [
        "type(data)"
      ],
      "metadata": {
        "colab": {
          "base_uri": "https://localhost:8080/",
          "height": 204
        },
        "id": "tuchvrfBTCgS",
        "outputId": "5c8906c1-3c78-47d7-878d-9c70c837c965"
      },
      "execution_count": null,
      "outputs": [
        {
          "output_type": "execute_result",
          "data": {
            "text/plain": [
              "pandas.core.frame.DataFrame"
            ],
            "text/html": [
              "<div style=\"max-width:800px; border: 1px solid var(--colab-border-color);\"><style>\n",
              "      pre.function-repr-contents {\n",
              "        overflow-x: auto;\n",
              "        padding: 8px 12px;\n",
              "        max-height: 500px;\n",
              "      }\n",
              "\n",
              "      pre.function-repr-contents.function-repr-contents-collapsed {\n",
              "        cursor: pointer;\n",
              "        max-height: 100px;\n",
              "      }\n",
              "    </style>\n",
              "    <pre style=\"white-space: initial; background:\n",
              "         var(--colab-secondary-surface-color); padding: 8px 12px;\n",
              "         border-bottom: 1px solid var(--colab-border-color);\"><b>pandas.core.frame.DataFrame</b><br/>def __init__(data=None, index: Axes | None=None, columns: Axes | None=None, dtype: Dtype | None=None, copy: bool | None=None) -&gt; None</pre><pre class=\"function-repr-contents function-repr-contents-collapsed\" style=\"\"><a class=\"filepath\" style=\"display:none\" href=\"#\">/usr/local/lib/python3.10/dist-packages/pandas/core/frame.py</a>Two-dimensional, size-mutable, potentially heterogeneous tabular data.\n",
              "\n",
              "Data structure also contains labeled axes (rows and columns).\n",
              "Arithmetic operations align on both row and column labels. Can be\n",
              "thought of as a dict-like container for Series objects. The primary\n",
              "pandas data structure.\n",
              "\n",
              "Parameters\n",
              "----------\n",
              "data : ndarray (structured or homogeneous), Iterable, dict, or DataFrame\n",
              "    Dict can contain Series, arrays, constants, dataclass or list-like objects. If\n",
              "    data is a dict, column order follows insertion-order. If a dict contains Series\n",
              "    which have an index defined, it is aligned by its index. This alignment also\n",
              "    occurs if data is a Series or a DataFrame itself. Alignment is done on\n",
              "    Series/DataFrame inputs.\n",
              "\n",
              "    If data is a list of dicts, column order follows insertion-order.\n",
              "\n",
              "index : Index or array-like\n",
              "    Index to use for resulting frame. Will default to RangeIndex if\n",
              "    no indexing information part of input data and no index provided.\n",
              "columns : Index or array-like\n",
              "    Column labels to use for resulting frame when data does not have them,\n",
              "    defaulting to RangeIndex(0, 1, 2, ..., n). If data contains column labels,\n",
              "    will perform column selection instead.\n",
              "dtype : dtype, default None\n",
              "    Data type to force. Only a single dtype is allowed. If None, infer.\n",
              "copy : bool or None, default None\n",
              "    Copy data from inputs.\n",
              "    For dict data, the default of None behaves like ``copy=True``.  For DataFrame\n",
              "    or 2d ndarray input, the default of None behaves like ``copy=False``.\n",
              "    If data is a dict containing one or more Series (possibly of different dtypes),\n",
              "    ``copy=False`` will ensure that these inputs are not copied.\n",
              "\n",
              "    .. versionchanged:: 1.3.0\n",
              "\n",
              "See Also\n",
              "--------\n",
              "DataFrame.from_records : Constructor from tuples, also record arrays.\n",
              "DataFrame.from_dict : From dicts of Series, arrays, or dicts.\n",
              "read_csv : Read a comma-separated values (csv) file into DataFrame.\n",
              "read_table : Read general delimited file into DataFrame.\n",
              "read_clipboard : Read text from clipboard into DataFrame.\n",
              "\n",
              "Notes\n",
              "-----\n",
              "Please reference the :ref:`User Guide &lt;basics.dataframe&gt;` for more information.\n",
              "\n",
              "Examples\n",
              "--------\n",
              "Constructing DataFrame from a dictionary.\n",
              "\n",
              "&gt;&gt;&gt; d = {&#x27;col1&#x27;: [1, 2], &#x27;col2&#x27;: [3, 4]}\n",
              "&gt;&gt;&gt; df = pd.DataFrame(data=d)\n",
              "&gt;&gt;&gt; df\n",
              "   col1  col2\n",
              "0     1     3\n",
              "1     2     4\n",
              "\n",
              "Notice that the inferred dtype is int64.\n",
              "\n",
              "&gt;&gt;&gt; df.dtypes\n",
              "col1    int64\n",
              "col2    int64\n",
              "dtype: object\n",
              "\n",
              "To enforce a single dtype:\n",
              "\n",
              "&gt;&gt;&gt; df = pd.DataFrame(data=d, dtype=np.int8)\n",
              "&gt;&gt;&gt; df.dtypes\n",
              "col1    int8\n",
              "col2    int8\n",
              "dtype: object\n",
              "\n",
              "Constructing DataFrame from a dictionary including Series:\n",
              "\n",
              "&gt;&gt;&gt; d = {&#x27;col1&#x27;: [0, 1, 2, 3], &#x27;col2&#x27;: pd.Series([2, 3], index=[2, 3])}\n",
              "&gt;&gt;&gt; pd.DataFrame(data=d, index=[0, 1, 2, 3])\n",
              "   col1  col2\n",
              "0     0   NaN\n",
              "1     1   NaN\n",
              "2     2   2.0\n",
              "3     3   3.0\n",
              "\n",
              "Constructing DataFrame from numpy ndarray:\n",
              "\n",
              "&gt;&gt;&gt; df2 = pd.DataFrame(np.array([[1, 2, 3], [4, 5, 6], [7, 8, 9]]),\n",
              "...                    columns=[&#x27;a&#x27;, &#x27;b&#x27;, &#x27;c&#x27;])\n",
              "&gt;&gt;&gt; df2\n",
              "   a  b  c\n",
              "0  1  2  3\n",
              "1  4  5  6\n",
              "2  7  8  9\n",
              "\n",
              "Constructing DataFrame from a numpy ndarray that has labeled columns:\n",
              "\n",
              "&gt;&gt;&gt; data = np.array([(1, 2, 3), (4, 5, 6), (7, 8, 9)],\n",
              "...                 dtype=[(&quot;a&quot;, &quot;i4&quot;), (&quot;b&quot;, &quot;i4&quot;), (&quot;c&quot;, &quot;i4&quot;)])\n",
              "&gt;&gt;&gt; df3 = pd.DataFrame(data, columns=[&#x27;c&#x27;, &#x27;a&#x27;])\n",
              "...\n",
              "&gt;&gt;&gt; df3\n",
              "   c  a\n",
              "0  3  1\n",
              "1  6  4\n",
              "2  9  7\n",
              "\n",
              "Constructing DataFrame from dataclass:\n",
              "\n",
              "&gt;&gt;&gt; from dataclasses import make_dataclass\n",
              "&gt;&gt;&gt; Point = make_dataclass(&quot;Point&quot;, [(&quot;x&quot;, int), (&quot;y&quot;, int)])\n",
              "&gt;&gt;&gt; pd.DataFrame([Point(0, 0), Point(0, 3), Point(2, 3)])\n",
              "   x  y\n",
              "0  0  0\n",
              "1  0  3\n",
              "2  2  3\n",
              "\n",
              "Constructing DataFrame from Series/DataFrame:\n",
              "\n",
              "&gt;&gt;&gt; ser = pd.Series([1, 2, 3], index=[&quot;a&quot;, &quot;b&quot;, &quot;c&quot;])\n",
              "&gt;&gt;&gt; df = pd.DataFrame(data=ser, index=[&quot;a&quot;, &quot;c&quot;])\n",
              "&gt;&gt;&gt; df\n",
              "   0\n",
              "a  1\n",
              "c  3\n",
              "\n",
              "&gt;&gt;&gt; df1 = pd.DataFrame([1, 2, 3], index=[&quot;a&quot;, &quot;b&quot;, &quot;c&quot;], columns=[&quot;x&quot;])\n",
              "&gt;&gt;&gt; df2 = pd.DataFrame(data=df1, index=[&quot;a&quot;, &quot;c&quot;])\n",
              "&gt;&gt;&gt; df2\n",
              "   x\n",
              "a  1\n",
              "c  3</pre>\n",
              "      <script>\n",
              "      if (google.colab.kernel.accessAllowed && google.colab.files && google.colab.files.view) {\n",
              "        for (const element of document.querySelectorAll('.filepath')) {\n",
              "          element.style.display = 'block'\n",
              "          element.onclick = (event) => {\n",
              "            event.preventDefault();\n",
              "            event.stopPropagation();\n",
              "            google.colab.files.view(element.textContent, 491);\n",
              "          };\n",
              "        }\n",
              "      }\n",
              "      for (const element of document.querySelectorAll('.function-repr-contents')) {\n",
              "        element.onclick = (event) => {\n",
              "          event.preventDefault();\n",
              "          event.stopPropagation();\n",
              "          element.classList.toggle('function-repr-contents-collapsed');\n",
              "        };\n",
              "      }\n",
              "      </script>\n",
              "      </div>"
            ]
          },
          "metadata": {},
          "execution_count": 2
        }
      ]
    },
    {
      "cell_type": "markdown",
      "source": [
        "Explanation about the columns\n",
        "1. Date: date of the stock\n",
        "2. Open: price of the stock opened at the particular day\n",
        "3. High: highest price of the stock during the day\n",
        "4. Low: lowest price of the stock during the day\n",
        "5. Close: closing price of the stock atg the end of the day\n",
        "6. Adj Close: closing price for adjusted corperate actions like stock splits,dividents etc..\n",
        "7. Volume: Number of shares traded during the day"
      ],
      "metadata": {
        "id": "fmhyp5ydWEHQ"
      }
    },
    {
      "cell_type": "markdown",
      "source": [
        "**Calculation of Weighted Average Price (VWAP)**\n",
        "Creating a new column"
      ],
      "metadata": {
        "id": "gIRcZt80dodc"
      }
    },
    {
      "cell_type": "code",
      "source": [
        "data['PriceVolume']=data['Close']*data['Volume']\n",
        "print(data.head())"
      ],
      "metadata": {
        "colab": {
          "base_uri": "https://localhost:8080/"
        },
        "id": "7WaPyuYJTVwA",
        "outputId": "ac9b6bf8-d84a-4ff1-c841-b09613d573dc"
      },
      "execution_count": null,
      "outputs": [
        {
          "output_type": "stream",
          "name": "stdout",
          "text": [
            "                Open      High       Low     Close  Adj Close      Volume  \\\n",
            "Date                                                                        \n",
            "2008-01-02  7.116786  7.152143  6.876786  6.958571   5.883145  1079178800   \n",
            "2008-01-03  6.978929  7.049643  6.881786  6.961786   5.885862   842066400   \n",
            "2008-01-04  6.837500  6.892857  6.388929  6.430357   5.436563  1455832000   \n",
            "2008-01-07  6.473214  6.557143  6.079643  6.344286   5.363794  2072193200   \n",
            "2008-01-08  6.433571  6.516429  6.100000  6.116071   5.170849  1523816000   \n",
            "\n",
            "             PriceVolume  \n",
            "Date                      \n",
            "2008-01-02  7.509542e+09  \n",
            "2008-01-03  5.862286e+09  \n",
            "2008-01-04  9.361519e+09  \n",
            "2008-01-07  1.314659e+10  \n",
            "2008-01-08  9.319767e+09  \n"
          ]
        }
      ]
    },
    {
      "cell_type": "code",
      "source": [
        "data['CumPriceVolume']=data['PriceVolume'].cumsum()\n",
        "print(data.head())"
      ],
      "metadata": {
        "colab": {
          "base_uri": "https://localhost:8080/"
        },
        "id": "Hvj7KBRdcLGH",
        "outputId": "9b51ed2c-adfc-46bc-aaac-16f9337f4e5a"
      },
      "execution_count": null,
      "outputs": [
        {
          "output_type": "stream",
          "name": "stdout",
          "text": [
            "                Open      High       Low     Close  Adj Close      Volume  \\\n",
            "Date                                                                        \n",
            "2008-01-02  7.116786  7.152143  6.876786  6.958571   5.883145  1079178800   \n",
            "2008-01-03  6.978929  7.049643  6.881786  6.961786   5.885862   842066400   \n",
            "2008-01-04  6.837500  6.892857  6.388929  6.430357   5.436563  1455832000   \n",
            "2008-01-07  6.473214  6.557143  6.079643  6.344286   5.363794  2072193200   \n",
            "2008-01-08  6.433571  6.516429  6.100000  6.116071   5.170849  1523816000   \n",
            "\n",
            "             PriceVolume  CumPriceVolume  \n",
            "Date                                      \n",
            "2008-01-02  7.509542e+09    7.509542e+09  \n",
            "2008-01-03  5.862286e+09    1.337183e+10  \n",
            "2008-01-04  9.361519e+09    2.273335e+10  \n",
            "2008-01-07  1.314659e+10    3.587993e+10  \n",
            "2008-01-08  9.319767e+09    4.519970e+10  \n"
          ]
        }
      ]
    },
    {
      "cell_type": "code",
      "source": [
        "data['CumVol']=data['Volume'].cumsum()\n",
        "print(data.head())"
      ],
      "metadata": {
        "colab": {
          "base_uri": "https://localhost:8080/"
        },
        "id": "LwaXIafqcevG",
        "outputId": "26bccd13-00c7-4f65-cec6-3040fecec4d7"
      },
      "execution_count": null,
      "outputs": [
        {
          "output_type": "stream",
          "name": "stdout",
          "text": [
            "                Open      High       Low     Close  Adj Close      Volume  \\\n",
            "Date                                                                        \n",
            "2008-01-02  7.116786  7.152143  6.876786  6.958571   5.883145  1079178800   \n",
            "2008-01-03  6.978929  7.049643  6.881786  6.961786   5.885862   842066400   \n",
            "2008-01-04  6.837500  6.892857  6.388929  6.430357   5.436563  1455832000   \n",
            "2008-01-07  6.473214  6.557143  6.079643  6.344286   5.363794  2072193200   \n",
            "2008-01-08  6.433571  6.516429  6.100000  6.116071   5.170849  1523816000   \n",
            "\n",
            "             PriceVolume  CumPriceVolume      CumVol  \n",
            "Date                                                  \n",
            "2008-01-02  7.509542e+09    7.509542e+09  1079178800  \n",
            "2008-01-03  5.862286e+09    1.337183e+10  1921245200  \n",
            "2008-01-04  9.361519e+09    2.273335e+10  3377077200  \n",
            "2008-01-07  1.314659e+10    3.587993e+10  5449270400  \n",
            "2008-01-08  9.319767e+09    4.519970e+10  6973086400  \n"
          ]
        }
      ]
    },
    {
      "cell_type": "code",
      "source": [
        "data['VWAP']=data['CumPriceVolume']/data['CumVol']\n",
        "print(data.head())"
      ],
      "metadata": {
        "colab": {
          "base_uri": "https://localhost:8080/"
        },
        "id": "8xhik0jmcsQi",
        "outputId": "f810274b-2615-4b19-95e9-e9ad367669be"
      },
      "execution_count": null,
      "outputs": [
        {
          "output_type": "stream",
          "name": "stdout",
          "text": [
            "                Open      High       Low     Close  Adj Close      Volume  \\\n",
            "Date                                                                        \n",
            "2008-01-02  7.116786  7.152143  6.876786  6.958571   5.883145  1079178800   \n",
            "2008-01-03  6.978929  7.049643  6.881786  6.961786   5.885862   842066400   \n",
            "2008-01-04  6.837500  6.892857  6.388929  6.430357   5.436563  1455832000   \n",
            "2008-01-07  6.473214  6.557143  6.079643  6.344286   5.363794  2072193200   \n",
            "2008-01-08  6.433571  6.516429  6.100000  6.116071   5.170849  1523816000   \n",
            "\n",
            "             PriceVolume  CumPriceVolume      CumVol      VWAP  \n",
            "Date                                                            \n",
            "2008-01-02  7.509542e+09    7.509542e+09  1079178800  6.958571  \n",
            "2008-01-03  5.862286e+09    1.337183e+10  1921245200  6.959980  \n",
            "2008-01-04  9.361519e+09    2.273335e+10  3377077200  6.731664  \n",
            "2008-01-07  1.314659e+10    3.587993e+10  5449270400  6.584356  \n",
            "2008-01-08  9.319767e+09    4.519970e+10  6973086400  6.482022  \n"
          ]
        }
      ]
    },
    {
      "cell_type": "code",
      "source": [
        "data=data.drop(['PriceVolume','CumPriceVolume','CumVol'],axis=1)\n",
        "print(data.head())"
      ],
      "metadata": {
        "colab": {
          "base_uri": "https://localhost:8080/"
        },
        "id": "Q6xtXXXgc51O",
        "outputId": "167657d2-db9c-4d05-ca92-bc4e0bde8b6b"
      },
      "execution_count": null,
      "outputs": [
        {
          "output_type": "stream",
          "name": "stdout",
          "text": [
            "                Open      High       Low     Close  Adj Close      Volume  \\\n",
            "Date                                                                        \n",
            "2008-01-02  7.116786  7.152143  6.876786  6.958571   5.883145  1079178800   \n",
            "2008-01-03  6.978929  7.049643  6.881786  6.961786   5.885862   842066400   \n",
            "2008-01-04  6.837500  6.892857  6.388929  6.430357   5.436563  1455832000   \n",
            "2008-01-07  6.473214  6.557143  6.079643  6.344286   5.363794  2072193200   \n",
            "2008-01-08  6.433571  6.516429  6.100000  6.116071   5.170849  1523816000   \n",
            "\n",
            "                VWAP  \n",
            "Date                  \n",
            "2008-01-02  6.958571  \n",
            "2008-01-03  6.959980  \n",
            "2008-01-04  6.731664  \n",
            "2008-01-07  6.584356  \n",
            "2008-01-08  6.482022  \n"
          ]
        }
      ]
    },
    {
      "cell_type": "markdown",
      "source": [
        "# **Data Cleaning**\n",
        "\n",
        "This includes cleaning the data and undestanding about the data"
      ],
      "metadata": {
        "id": "DmawzgjIlORK"
      }
    },
    {
      "cell_type": "code",
      "source": [
        "data.info()"
      ],
      "metadata": {
        "colab": {
          "base_uri": "https://localhost:8080/"
        },
        "id": "983b7xGDdRWJ",
        "outputId": "1dca7484-e972-4e68-a410-a7e989a6072b"
      },
      "execution_count": null,
      "outputs": [
        {
          "output_type": "stream",
          "name": "stdout",
          "text": [
            "<class 'pandas.core.frame.DataFrame'>\n",
            "DatetimeIndex: 4027 entries, 2008-01-02 to 2023-12-29\n",
            "Data columns (total 7 columns):\n",
            " #   Column     Non-Null Count  Dtype  \n",
            "---  ------     --------------  -----  \n",
            " 0   Open       4027 non-null   float64\n",
            " 1   High       4027 non-null   float64\n",
            " 2   Low        4027 non-null   float64\n",
            " 3   Close      4027 non-null   float64\n",
            " 4   Adj Close  4027 non-null   float64\n",
            " 5   Volume     4027 non-null   int64  \n",
            " 6   VWAP       4027 non-null   float64\n",
            "dtypes: float64(6), int64(1)\n",
            "memory usage: 251.7 KB\n"
          ]
        }
      ]
    },
    {
      "cell_type": "markdown",
      "source": [
        "This dataset contains int and float datatypes"
      ],
      "metadata": {
        "id": "b8Y-hDH9lgIa"
      }
    },
    {
      "cell_type": "code",
      "source": [
        "data.isnull().sum()"
      ],
      "metadata": {
        "colab": {
          "base_uri": "https://localhost:8080/",
          "height": 304
        },
        "id": "7a0JdKW7eVDw",
        "outputId": "67eda674-f767-4abc-8371-32580543c40e"
      },
      "execution_count": null,
      "outputs": [
        {
          "output_type": "execute_result",
          "data": {
            "text/plain": [
              "Open         0\n",
              "High         0\n",
              "Low          0\n",
              "Close        0\n",
              "Adj Close    0\n",
              "Volume       0\n",
              "VWAP         0\n",
              "dtype: int64"
            ],
            "text/html": [
              "<div>\n",
              "<style scoped>\n",
              "    .dataframe tbody tr th:only-of-type {\n",
              "        vertical-align: middle;\n",
              "    }\n",
              "\n",
              "    .dataframe tbody tr th {\n",
              "        vertical-align: top;\n",
              "    }\n",
              "\n",
              "    .dataframe thead th {\n",
              "        text-align: right;\n",
              "    }\n",
              "</style>\n",
              "<table border=\"1\" class=\"dataframe\">\n",
              "  <thead>\n",
              "    <tr style=\"text-align: right;\">\n",
              "      <th></th>\n",
              "      <th>0</th>\n",
              "    </tr>\n",
              "  </thead>\n",
              "  <tbody>\n",
              "    <tr>\n",
              "      <th>Open</th>\n",
              "      <td>0</td>\n",
              "    </tr>\n",
              "    <tr>\n",
              "      <th>High</th>\n",
              "      <td>0</td>\n",
              "    </tr>\n",
              "    <tr>\n",
              "      <th>Low</th>\n",
              "      <td>0</td>\n",
              "    </tr>\n",
              "    <tr>\n",
              "      <th>Close</th>\n",
              "      <td>0</td>\n",
              "    </tr>\n",
              "    <tr>\n",
              "      <th>Adj Close</th>\n",
              "      <td>0</td>\n",
              "    </tr>\n",
              "    <tr>\n",
              "      <th>Volume</th>\n",
              "      <td>0</td>\n",
              "    </tr>\n",
              "    <tr>\n",
              "      <th>VWAP</th>\n",
              "      <td>0</td>\n",
              "    </tr>\n",
              "  </tbody>\n",
              "</table>\n",
              "</div><br><label><b>dtype:</b> int64</label>"
            ]
          },
          "metadata": {},
          "execution_count": 10
        }
      ]
    },
    {
      "cell_type": "code",
      "source": [
        "data.duplicated().sum()"
      ],
      "metadata": {
        "colab": {
          "base_uri": "https://localhost:8080/"
        },
        "id": "rsCxIzeNeZYU",
        "outputId": "3207b81f-ce64-4163-cc79-122fb7186d72"
      },
      "execution_count": null,
      "outputs": [
        {
          "output_type": "execute_result",
          "data": {
            "text/plain": [
              "0"
            ]
          },
          "metadata": {},
          "execution_count": 11
        }
      ]
    },
    {
      "cell_type": "markdown",
      "source": [
        "This data has no null values"
      ],
      "metadata": {
        "id": "AOlpB8kJlzGq"
      }
    },
    {
      "cell_type": "code",
      "source": [
        "data.corr()"
      ],
      "metadata": {
        "colab": {
          "base_uri": "https://localhost:8080/",
          "height": 269
        },
        "id": "qqJEoesvfhdL",
        "outputId": "248c0625-7ea7-462d-dd41-5451d89bc1ac"
      },
      "execution_count": null,
      "outputs": [
        {
          "output_type": "execute_result",
          "data": {
            "text/plain": [
              "               Open      High       Low     Close  Adj Close    Volume  \\\n",
              "Open       1.000000  0.999917  0.999899  0.999792   0.999702 -0.515346   \n",
              "High       0.999917  1.000000  0.999876  0.999900   0.999809 -0.514554   \n",
              "Low        0.999899  0.999876  1.000000  0.999905   0.999820 -0.516502   \n",
              "Close      0.999792  0.999900  0.999905  1.000000   0.999912 -0.515551   \n",
              "Adj Close  0.999702  0.999809  0.999820  0.999912   1.000000 -0.510341   \n",
              "Volume    -0.515346 -0.514554 -0.516502 -0.515551  -0.510341  1.000000   \n",
              "VWAP       0.931433  0.931458  0.931599  0.931530   0.929528 -0.666302   \n",
              "\n",
              "               VWAP  \n",
              "Open       0.931433  \n",
              "High       0.931458  \n",
              "Low        0.931599  \n",
              "Close      0.931530  \n",
              "Adj Close  0.929528  \n",
              "Volume    -0.666302  \n",
              "VWAP       1.000000  "
            ],
            "text/html": [
              "\n",
              "  <div id=\"df-7fa24c36-29c8-4002-a381-3ae410aad316\" class=\"colab-df-container\">\n",
              "    <div>\n",
              "<style scoped>\n",
              "    .dataframe tbody tr th:only-of-type {\n",
              "        vertical-align: middle;\n",
              "    }\n",
              "\n",
              "    .dataframe tbody tr th {\n",
              "        vertical-align: top;\n",
              "    }\n",
              "\n",
              "    .dataframe thead th {\n",
              "        text-align: right;\n",
              "    }\n",
              "</style>\n",
              "<table border=\"1\" class=\"dataframe\">\n",
              "  <thead>\n",
              "    <tr style=\"text-align: right;\">\n",
              "      <th></th>\n",
              "      <th>Open</th>\n",
              "      <th>High</th>\n",
              "      <th>Low</th>\n",
              "      <th>Close</th>\n",
              "      <th>Adj Close</th>\n",
              "      <th>Volume</th>\n",
              "      <th>VWAP</th>\n",
              "    </tr>\n",
              "  </thead>\n",
              "  <tbody>\n",
              "    <tr>\n",
              "      <th>Open</th>\n",
              "      <td>1.000000</td>\n",
              "      <td>0.999917</td>\n",
              "      <td>0.999899</td>\n",
              "      <td>0.999792</td>\n",
              "      <td>0.999702</td>\n",
              "      <td>-0.515346</td>\n",
              "      <td>0.931433</td>\n",
              "    </tr>\n",
              "    <tr>\n",
              "      <th>High</th>\n",
              "      <td>0.999917</td>\n",
              "      <td>1.000000</td>\n",
              "      <td>0.999876</td>\n",
              "      <td>0.999900</td>\n",
              "      <td>0.999809</td>\n",
              "      <td>-0.514554</td>\n",
              "      <td>0.931458</td>\n",
              "    </tr>\n",
              "    <tr>\n",
              "      <th>Low</th>\n",
              "      <td>0.999899</td>\n",
              "      <td>0.999876</td>\n",
              "      <td>1.000000</td>\n",
              "      <td>0.999905</td>\n",
              "      <td>0.999820</td>\n",
              "      <td>-0.516502</td>\n",
              "      <td>0.931599</td>\n",
              "    </tr>\n",
              "    <tr>\n",
              "      <th>Close</th>\n",
              "      <td>0.999792</td>\n",
              "      <td>0.999900</td>\n",
              "      <td>0.999905</td>\n",
              "      <td>1.000000</td>\n",
              "      <td>0.999912</td>\n",
              "      <td>-0.515551</td>\n",
              "      <td>0.931530</td>\n",
              "    </tr>\n",
              "    <tr>\n",
              "      <th>Adj Close</th>\n",
              "      <td>0.999702</td>\n",
              "      <td>0.999809</td>\n",
              "      <td>0.999820</td>\n",
              "      <td>0.999912</td>\n",
              "      <td>1.000000</td>\n",
              "      <td>-0.510341</td>\n",
              "      <td>0.929528</td>\n",
              "    </tr>\n",
              "    <tr>\n",
              "      <th>Volume</th>\n",
              "      <td>-0.515346</td>\n",
              "      <td>-0.514554</td>\n",
              "      <td>-0.516502</td>\n",
              "      <td>-0.515551</td>\n",
              "      <td>-0.510341</td>\n",
              "      <td>1.000000</td>\n",
              "      <td>-0.666302</td>\n",
              "    </tr>\n",
              "    <tr>\n",
              "      <th>VWAP</th>\n",
              "      <td>0.931433</td>\n",
              "      <td>0.931458</td>\n",
              "      <td>0.931599</td>\n",
              "      <td>0.931530</td>\n",
              "      <td>0.929528</td>\n",
              "      <td>-0.666302</td>\n",
              "      <td>1.000000</td>\n",
              "    </tr>\n",
              "  </tbody>\n",
              "</table>\n",
              "</div>\n",
              "    <div class=\"colab-df-buttons\">\n",
              "\n",
              "  <div class=\"colab-df-container\">\n",
              "    <button class=\"colab-df-convert\" onclick=\"convertToInteractive('df-7fa24c36-29c8-4002-a381-3ae410aad316')\"\n",
              "            title=\"Convert this dataframe to an interactive table.\"\n",
              "            style=\"display:none;\">\n",
              "\n",
              "  <svg xmlns=\"http://www.w3.org/2000/svg\" height=\"24px\" viewBox=\"0 -960 960 960\">\n",
              "    <path d=\"M120-120v-720h720v720H120Zm60-500h600v-160H180v160Zm220 220h160v-160H400v160Zm0 220h160v-160H400v160ZM180-400h160v-160H180v160Zm440 0h160v-160H620v160ZM180-180h160v-160H180v160Zm440 0h160v-160H620v160Z\"/>\n",
              "  </svg>\n",
              "    </button>\n",
              "\n",
              "  <style>\n",
              "    .colab-df-container {\n",
              "      display:flex;\n",
              "      gap: 12px;\n",
              "    }\n",
              "\n",
              "    .colab-df-convert {\n",
              "      background-color: #E8F0FE;\n",
              "      border: none;\n",
              "      border-radius: 50%;\n",
              "      cursor: pointer;\n",
              "      display: none;\n",
              "      fill: #1967D2;\n",
              "      height: 32px;\n",
              "      padding: 0 0 0 0;\n",
              "      width: 32px;\n",
              "    }\n",
              "\n",
              "    .colab-df-convert:hover {\n",
              "      background-color: #E2EBFA;\n",
              "      box-shadow: 0px 1px 2px rgba(60, 64, 67, 0.3), 0px 1px 3px 1px rgba(60, 64, 67, 0.15);\n",
              "      fill: #174EA6;\n",
              "    }\n",
              "\n",
              "    .colab-df-buttons div {\n",
              "      margin-bottom: 4px;\n",
              "    }\n",
              "\n",
              "    [theme=dark] .colab-df-convert {\n",
              "      background-color: #3B4455;\n",
              "      fill: #D2E3FC;\n",
              "    }\n",
              "\n",
              "    [theme=dark] .colab-df-convert:hover {\n",
              "      background-color: #434B5C;\n",
              "      box-shadow: 0px 1px 3px 1px rgba(0, 0, 0, 0.15);\n",
              "      filter: drop-shadow(0px 1px 2px rgba(0, 0, 0, 0.3));\n",
              "      fill: #FFFFFF;\n",
              "    }\n",
              "  </style>\n",
              "\n",
              "    <script>\n",
              "      const buttonEl =\n",
              "        document.querySelector('#df-7fa24c36-29c8-4002-a381-3ae410aad316 button.colab-df-convert');\n",
              "      buttonEl.style.display =\n",
              "        google.colab.kernel.accessAllowed ? 'block' : 'none';\n",
              "\n",
              "      async function convertToInteractive(key) {\n",
              "        const element = document.querySelector('#df-7fa24c36-29c8-4002-a381-3ae410aad316');\n",
              "        const dataTable =\n",
              "          await google.colab.kernel.invokeFunction('convertToInteractive',\n",
              "                                                    [key], {});\n",
              "        if (!dataTable) return;\n",
              "\n",
              "        const docLinkHtml = 'Like what you see? Visit the ' +\n",
              "          '<a target=\"_blank\" href=https://colab.research.google.com/notebooks/data_table.ipynb>data table notebook</a>'\n",
              "          + ' to learn more about interactive tables.';\n",
              "        element.innerHTML = '';\n",
              "        dataTable['output_type'] = 'display_data';\n",
              "        await google.colab.output.renderOutput(dataTable, element);\n",
              "        const docLink = document.createElement('div');\n",
              "        docLink.innerHTML = docLinkHtml;\n",
              "        element.appendChild(docLink);\n",
              "      }\n",
              "    </script>\n",
              "  </div>\n",
              "\n",
              "\n",
              "<div id=\"df-91e6cab1-93e9-4fe1-a535-135449d2ddf0\">\n",
              "  <button class=\"colab-df-quickchart\" onclick=\"quickchart('df-91e6cab1-93e9-4fe1-a535-135449d2ddf0')\"\n",
              "            title=\"Suggest charts\"\n",
              "            style=\"display:none;\">\n",
              "\n",
              "<svg xmlns=\"http://www.w3.org/2000/svg\" height=\"24px\"viewBox=\"0 0 24 24\"\n",
              "     width=\"24px\">\n",
              "    <g>\n",
              "        <path d=\"M19 3H5c-1.1 0-2 .9-2 2v14c0 1.1.9 2 2 2h14c1.1 0 2-.9 2-2V5c0-1.1-.9-2-2-2zM9 17H7v-7h2v7zm4 0h-2V7h2v10zm4 0h-2v-4h2v4z\"/>\n",
              "    </g>\n",
              "</svg>\n",
              "  </button>\n",
              "\n",
              "<style>\n",
              "  .colab-df-quickchart {\n",
              "      --bg-color: #E8F0FE;\n",
              "      --fill-color: #1967D2;\n",
              "      --hover-bg-color: #E2EBFA;\n",
              "      --hover-fill-color: #174EA6;\n",
              "      --disabled-fill-color: #AAA;\n",
              "      --disabled-bg-color: #DDD;\n",
              "  }\n",
              "\n",
              "  [theme=dark] .colab-df-quickchart {\n",
              "      --bg-color: #3B4455;\n",
              "      --fill-color: #D2E3FC;\n",
              "      --hover-bg-color: #434B5C;\n",
              "      --hover-fill-color: #FFFFFF;\n",
              "      --disabled-bg-color: #3B4455;\n",
              "      --disabled-fill-color: #666;\n",
              "  }\n",
              "\n",
              "  .colab-df-quickchart {\n",
              "    background-color: var(--bg-color);\n",
              "    border: none;\n",
              "    border-radius: 50%;\n",
              "    cursor: pointer;\n",
              "    display: none;\n",
              "    fill: var(--fill-color);\n",
              "    height: 32px;\n",
              "    padding: 0;\n",
              "    width: 32px;\n",
              "  }\n",
              "\n",
              "  .colab-df-quickchart:hover {\n",
              "    background-color: var(--hover-bg-color);\n",
              "    box-shadow: 0 1px 2px rgba(60, 64, 67, 0.3), 0 1px 3px 1px rgba(60, 64, 67, 0.15);\n",
              "    fill: var(--button-hover-fill-color);\n",
              "  }\n",
              "\n",
              "  .colab-df-quickchart-complete:disabled,\n",
              "  .colab-df-quickchart-complete:disabled:hover {\n",
              "    background-color: var(--disabled-bg-color);\n",
              "    fill: var(--disabled-fill-color);\n",
              "    box-shadow: none;\n",
              "  }\n",
              "\n",
              "  .colab-df-spinner {\n",
              "    border: 2px solid var(--fill-color);\n",
              "    border-color: transparent;\n",
              "    border-bottom-color: var(--fill-color);\n",
              "    animation:\n",
              "      spin 1s steps(1) infinite;\n",
              "  }\n",
              "\n",
              "  @keyframes spin {\n",
              "    0% {\n",
              "      border-color: transparent;\n",
              "      border-bottom-color: var(--fill-color);\n",
              "      border-left-color: var(--fill-color);\n",
              "    }\n",
              "    20% {\n",
              "      border-color: transparent;\n",
              "      border-left-color: var(--fill-color);\n",
              "      border-top-color: var(--fill-color);\n",
              "    }\n",
              "    30% {\n",
              "      border-color: transparent;\n",
              "      border-left-color: var(--fill-color);\n",
              "      border-top-color: var(--fill-color);\n",
              "      border-right-color: var(--fill-color);\n",
              "    }\n",
              "    40% {\n",
              "      border-color: transparent;\n",
              "      border-right-color: var(--fill-color);\n",
              "      border-top-color: var(--fill-color);\n",
              "    }\n",
              "    60% {\n",
              "      border-color: transparent;\n",
              "      border-right-color: var(--fill-color);\n",
              "    }\n",
              "    80% {\n",
              "      border-color: transparent;\n",
              "      border-right-color: var(--fill-color);\n",
              "      border-bottom-color: var(--fill-color);\n",
              "    }\n",
              "    90% {\n",
              "      border-color: transparent;\n",
              "      border-bottom-color: var(--fill-color);\n",
              "    }\n",
              "  }\n",
              "</style>\n",
              "\n",
              "  <script>\n",
              "    async function quickchart(key) {\n",
              "      const quickchartButtonEl =\n",
              "        document.querySelector('#' + key + ' button');\n",
              "      quickchartButtonEl.disabled = true;  // To prevent multiple clicks.\n",
              "      quickchartButtonEl.classList.add('colab-df-spinner');\n",
              "      try {\n",
              "        const charts = await google.colab.kernel.invokeFunction(\n",
              "            'suggestCharts', [key], {});\n",
              "      } catch (error) {\n",
              "        console.error('Error during call to suggestCharts:', error);\n",
              "      }\n",
              "      quickchartButtonEl.classList.remove('colab-df-spinner');\n",
              "      quickchartButtonEl.classList.add('colab-df-quickchart-complete');\n",
              "    }\n",
              "    (() => {\n",
              "      let quickchartButtonEl =\n",
              "        document.querySelector('#df-91e6cab1-93e9-4fe1-a535-135449d2ddf0 button');\n",
              "      quickchartButtonEl.style.display =\n",
              "        google.colab.kernel.accessAllowed ? 'block' : 'none';\n",
              "    })();\n",
              "  </script>\n",
              "</div>\n",
              "\n",
              "    </div>\n",
              "  </div>\n"
            ],
            "application/vnd.google.colaboratory.intrinsic+json": {
              "type": "dataframe",
              "summary": "{\n  \"name\": \"data\",\n  \"rows\": 7,\n  \"fields\": [\n    {\n      \"column\": \"Open\",\n      \"properties\": {\n        \"dtype\": \"number\",\n        \"std\": 0.5689559054134956,\n        \"min\": -0.515345710899863,\n        \"max\": 1.0,\n        \"num_unique_values\": 7,\n        \"samples\": [\n          1.0,\n          0.999916532230288,\n          -0.515345710899863\n        ],\n        \"semantic_type\": \"\",\n        \"description\": \"\"\n      }\n    },\n    {\n      \"column\": \"High\",\n      \"properties\": {\n        \"dtype\": \"number\",\n        \"std\": 0.5686707677081285,\n        \"min\": -0.5145538674631311,\n        \"max\": 1.0,\n        \"num_unique_values\": 7,\n        \"samples\": [\n          0.999916532230288,\n          1.0,\n          -0.5145538674631311\n        ],\n        \"semantic_type\": \"\",\n        \"description\": \"\"\n      }\n    },\n    {\n      \"column\": \"Low\",\n      \"properties\": {\n        \"dtype\": \"number\",\n        \"std\": 0.5694126530846751,\n        \"min\": -0.5165017426216092,\n        \"max\": 1.0,\n        \"num_unique_values\": 7,\n        \"samples\": [\n          0.9998993738839571,\n          0.9998761623337356,\n          -0.5165017426216092\n        ],\n        \"semantic_type\": \"\",\n        \"description\": \"\"\n      }\n    },\n    {\n      \"column\": \"Close\",\n      \"properties\": {\n        \"dtype\": \"number\",\n        \"std\": 0.5690510991740392,\n        \"min\": -0.5155511098065766,\n        \"max\": 1.0,\n        \"num_unique_values\": 7,\n        \"samples\": [\n          0.9997922555716122,\n          0.9998998994108319,\n          -0.5155511098065766\n        ],\n        \"semantic_type\": \"\",\n        \"description\": \"\"\n      }\n    },\n    {\n      \"column\": \"Adj Close\",\n      \"properties\": {\n        \"dtype\": \"number\",\n        \"std\": 0.5669742152097763,\n        \"min\": -0.5103408190124176,\n        \"max\": 1.0,\n        \"num_unique_values\": 7,\n        \"samples\": [\n          0.9997021838525795,\n          0.9998093668310574,\n          -0.5103408190124176\n        ],\n        \"semantic_type\": \"\",\n        \"description\": \"\"\n      }\n    },\n    {\n      \"column\": \"Volume\",\n      \"properties\": {\n        \"dtype\": \"number\",\n        \"std\": 0.5847248616920718,\n        \"min\": -0.6663023421185835,\n        \"max\": 1.0,\n        \"num_unique_values\": 7,\n        \"samples\": [\n          -0.515345710899863,\n          -0.5145538674631311,\n          1.0\n        ],\n        \"semantic_type\": \"\",\n        \"description\": \"\"\n      }\n    },\n    {\n      \"column\": \"VWAP\",\n      \"properties\": {\n        \"dtype\": \"number\",\n        \"std\": 0.6086468228279693,\n        \"min\": -0.6663023421185835,\n        \"max\": 1.0,\n        \"num_unique_values\": 7,\n        \"samples\": [\n          0.9314328874197755,\n          0.9314579021545182,\n          -0.6663023421185835\n        ],\n        \"semantic_type\": \"\",\n        \"description\": \"\"\n      }\n    }\n  ]\n}"
            }
          },
          "metadata": {},
          "execution_count": 12
        }
      ]
    },
    {
      "cell_type": "code",
      "source": [
        "import matplotlib.pyplot as plt\n",
        "import seaborn as sns\n",
        "sns.heatmap(data.corr(), annot=True, cmap='coolwarm')"
      ],
      "metadata": {
        "colab": {
          "base_uri": "https://localhost:8080/",
          "height": 503
        },
        "id": "DyRZSWCX5ojF",
        "outputId": "860fae3a-ec7b-4d99-8164-b23371de1d3e"
      },
      "execution_count": null,
      "outputs": [
        {
          "output_type": "execute_result",
          "data": {
            "text/plain": [
              "<Axes: >"
            ]
          },
          "metadata": {},
          "execution_count": 13
        },
        {
          "output_type": "display_data",
          "data": {
            "text/plain": [
              "<Figure size 640x480 with 2 Axes>"
            ],
            "image/png": "[encoded data removed]"
          },
          "metadata": {}
        }
      ]
    },
    {
      "cell_type": "code",
      "source": [
        "data.describe()"
      ],
      "metadata": {
        "colab": {
          "base_uri": "https://localhost:8080/",
          "height": 300
        },
        "id": "fZTzF4K1mwtf",
        "outputId": "5a853e0b-96cd-4af0-d2b0-bcf840c0d7ee"
      },
      "execution_count": null,
      "outputs": [
        {
          "output_type": "execute_result",
          "data": {
            "text/plain": [
              "              Open         High          Low        Close    Adj Close  \\\n",
              "count  4027.000000  4027.000000  4027.000000  4027.000000  4027.000000   \n",
              "mean     53.021076    53.595687    52.470803    53.057953    51.070595   \n",
              "std      54.879229    55.494029    54.314221    54.934464    55.018785   \n",
              "min       2.835357     2.928571     2.792857     2.792857     2.361228   \n",
              "25%      14.463750    14.608750    14.313571    14.466428    12.276419   \n",
              "50%      28.250000    28.545000    27.950001    28.250000    25.729797   \n",
              "75%      66.422497    67.031250    65.751251    66.582500    64.798809   \n",
              "max     198.020004   199.619995   197.000000   198.110001   197.589523   \n",
              "\n",
              "             Volume         VWAP  \n",
              "count  4.027000e+03  4027.000000  \n",
              "mean   3.184894e+08    12.088148  \n",
              "std    3.297178e+08     5.344514  \n",
              "min    2.404830e+07     4.653318  \n",
              "25%    9.914470e+07     7.250478  \n",
              "50%    1.846420e+08    11.884618  \n",
              "75%    4.293618e+08    14.887911  \n",
              "max    3.372970e+09    23.745232  "
            ],
            "text/html": [
              "\n",
              "  <div id=\"df-d436c795-dd29-4d74-8bf6-4c32ee25f974\" class=\"colab-df-container\">\n",
              "    <div>\n",
              "<style scoped>\n",
              "    .dataframe tbody tr th:only-of-type {\n",
              "        vertical-align: middle;\n",
              "    }\n",
              "\n",
              "    .dataframe tbody tr th {\n",
              "        vertical-align: top;\n",
              "    }\n",
              "\n",
              "    .dataframe thead th {\n",
              "        text-align: right;\n",
              "    }\n",
              "</style>\n",
              "<table border=\"1\" class=\"dataframe\">\n",
              "  <thead>\n",
              "    <tr style=\"text-align: right;\">\n",
              "      <th></th>\n",
              "      <th>Open</th>\n",
              "      <th>High</th>\n",
              "      <th>Low</th>\n",
              "      <th>Close</th>\n",
              "      <th>Adj Close</th>\n",
              "      <th>Volume</th>\n",
              "      <th>VWAP</th>\n",
              "    </tr>\n",
              "  </thead>\n",
              "  <tbody>\n",
              "    <tr>\n",
              "      <th>count</th>\n",
              "      <td>4027.000000</td>\n",
              "      <td>4027.000000</td>\n",
              "      <td>4027.000000</td>\n",
              "      <td>4027.000000</td>\n",
              "      <td>4027.000000</td>\n",
              "      <td>4.027000e+03</td>\n",
              "      <td>4027.000000</td>\n",
              "    </tr>\n",
              "    <tr>\n",
              "      <th>mean</th>\n",
              "      <td>53.021076</td>\n",
              "      <td>53.595687</td>\n",
              "      <td>52.470803</td>\n",
              "      <td>53.057953</td>\n",
              "      <td>51.070595</td>\n",
              "      <td>3.184894e+08</td>\n",
              "      <td>12.088148</td>\n",
              "    </tr>\n",
              "    <tr>\n",
              "      <th>std</th>\n",
              "      <td>54.879229</td>\n",
              "      <td>55.494029</td>\n",
              "      <td>54.314221</td>\n",
              "      <td>54.934464</td>\n",
              "      <td>55.018785</td>\n",
              "      <td>3.297178e+08</td>\n",
              "      <td>5.344514</td>\n",
              "    </tr>\n",
              "    <tr>\n",
              "      <th>min</th>\n",
              "      <td>2.835357</td>\n",
              "      <td>2.928571</td>\n",
              "      <td>2.792857</td>\n",
              "      <td>2.792857</td>\n",
              "      <td>2.361228</td>\n",
              "      <td>2.404830e+07</td>\n",
              "      <td>4.653318</td>\n",
              "    </tr>\n",
              "    <tr>\n",
              "      <th>25%</th>\n",
              "      <td>14.463750</td>\n",
              "      <td>14.608750</td>\n",
              "      <td>14.313571</td>\n",
              "      <td>14.466428</td>\n",
              "      <td>12.276419</td>\n",
              "      <td>9.914470e+07</td>\n",
              "      <td>7.250478</td>\n",
              "    </tr>\n",
              "    <tr>\n",
              "      <th>50%</th>\n",
              "      <td>28.250000</td>\n",
              "      <td>28.545000</td>\n",
              "      <td>27.950001</td>\n",
              "      <td>28.250000</td>\n",
              "      <td>25.729797</td>\n",
              "      <td>1.846420e+08</td>\n",
              "      <td>11.884618</td>\n",
              "    </tr>\n",
              "    <tr>\n",
              "      <th>75%</th>\n",
              "      <td>66.422497</td>\n",
              "      <td>67.031250</td>\n",
              "      <td>65.751251</td>\n",
              "      <td>66.582500</td>\n",
              "      <td>64.798809</td>\n",
              "      <td>4.293618e+08</td>\n",
              "      <td>14.887911</td>\n",
              "    </tr>\n",
              "    <tr>\n",
              "      <th>max</th>\n",
              "      <td>198.020004</td>\n",
              "      <td>199.619995</td>\n",
              "      <td>197.000000</td>\n",
              "      <td>198.110001</td>\n",
              "      <td>197.589523</td>\n",
              "      <td>3.372970e+09</td>\n",
              "      <td>23.745232</td>\n",
              "    </tr>\n",
              "  </tbody>\n",
              "</table>\n",
              "</div>\n",
              "    <div class=\"colab-df-buttons\">\n",
              "\n",
              "  <div class=\"colab-df-container\">\n",
              "    <button class=\"colab-df-convert\" onclick=\"convertToInteractive('df-d436c795-dd29-4d74-8bf6-4c32ee25f974')\"\n",
              "            title=\"Convert this dataframe to an interactive table.\"\n",
              "            style=\"display:none;\">\n",
              "\n",
              "  <svg xmlns=\"http://www.w3.org/2000/svg\" height=\"24px\" viewBox=\"0 -960 960 960\">\n",
              "    <path d=\"M120-120v-720h720v720H120Zm60-500h600v-160H180v160Zm220 220h160v-160H400v160Zm0 220h160v-160H400v160ZM180-400h160v-160H180v160Zm440 0h160v-160H620v160ZM180-180h160v-160H180v160Zm440 0h160v-160H620v160Z\"/>\n",
              "  </svg>\n",
              "    </button>\n",
              "\n",
              "  <style>\n",
              "    .colab-df-container {\n",
              "      display:flex;\n",
              "      gap: 12px;\n",
              "    }\n",
              "\n",
              "    .colab-df-convert {\n",
              "      background-color: #E8F0FE;\n",
              "      border: none;\n",
              "      border-radius: 50%;\n",
              "      cursor: pointer;\n",
              "      display: none;\n",
              "      fill: #1967D2;\n",
              "      height: 32px;\n",
              "      padding: 0 0 0 0;\n",
              "      width: 32px;\n",
              "    }\n",
              "\n",
              "    .colab-df-convert:hover {\n",
              "      background-color: #E2EBFA;\n",
              "      box-shadow: 0px 1px 2px rgba(60, 64, 67, 0.3), 0px 1px 3px 1px rgba(60, 64, 67, 0.15);\n",
              "      fill: #174EA6;\n",
              "    }\n",
              "\n",
              "    .colab-df-buttons div {\n",
              "      margin-bottom: 4px;\n",
              "    }\n",
              "\n",
              "    [theme=dark] .colab-df-convert {\n",
              "      background-color: #3B4455;\n",
              "      fill: #D2E3FC;\n",
              "    }\n",
              "\n",
              "    [theme=dark] .colab-df-convert:hover {\n",
              "      background-color: #434B5C;\n",
              "      box-shadow: 0px 1px 3px 1px rgba(0, 0, 0, 0.15);\n",
              "      filter: drop-shadow(0px 1px 2px rgba(0, 0, 0, 0.3));\n",
              "      fill: #FFFFFF;\n",
              "    }\n",
              "  </style>\n",
              "\n",
              "    <script>\n",
              "      const buttonEl =\n",
              "        document.querySelector('#df-d436c795-dd29-4d74-8bf6-4c32ee25f974 button.colab-df-convert');\n",
              "      buttonEl.style.display =\n",
              "        google.colab.kernel.accessAllowed ? 'block' : 'none';\n",
              "\n",
              "      async function convertToInteractive(key) {\n",
              "        const element = document.querySelector('#df-d436c795-dd29-4d74-8bf6-4c32ee25f974');\n",
              "        const dataTable =\n",
              "          await google.colab.kernel.invokeFunction('convertToInteractive',\n",
              "                                                    [key], {});\n",
              "        if (!dataTable) return;\n",
              "\n",
              "        const docLinkHtml = 'Like what you see? Visit the ' +\n",
              "          '<a target=\"_blank\" href=https://colab.research.google.com/notebooks/data_table.ipynb>data table notebook</a>'\n",
              "          + ' to learn more about interactive tables.';\n",
              "        element.innerHTML = '';\n",
              "        dataTable['output_type'] = 'display_data';\n",
              "        await google.colab.output.renderOutput(dataTable, element);\n",
              "        const docLink = document.createElement('div');\n",
              "        docLink.innerHTML = docLinkHtml;\n",
              "        element.appendChild(docLink);\n",
              "      }\n",
              "    </script>\n",
              "  </div>\n",
              "\n",
              "\n",
              "<div id=\"df-77b443f1-5653-4a5b-9f21-ef2e3251d77c\">\n",
              "  <button class=\"colab-df-quickchart\" onclick=\"quickchart('df-77b443f1-5653-4a5b-9f21-ef2e3251d77c')\"\n",
              "            title=\"Suggest charts\"\n",
              "            style=\"display:none;\">\n",
              "\n",
              "<svg xmlns=\"http://www.w3.org/2000/svg\" height=\"24px\"viewBox=\"0 0 24 24\"\n",
              "     width=\"24px\">\n",
              "    <g>\n",
              "        <path d=\"M19 3H5c-1.1 0-2 .9-2 2v14c0 1.1.9 2 2 2h14c1.1 0 2-.9 2-2V5c0-1.1-.9-2-2-2zM9 17H7v-7h2v7zm4 0h-2V7h2v10zm4 0h-2v-4h2v4z\"/>\n",
              "    </g>\n",
              "</svg>\n",
              "  </button>\n",
              "\n",
              "<style>\n",
              "  .colab-df-quickchart {\n",
              "      --bg-color: #E8F0FE;\n",
              "      --fill-color: #1967D2;\n",
              "      --hover-bg-color: #E2EBFA;\n",
              "      --hover-fill-color: #174EA6;\n",
              "      --disabled-fill-color: #AAA;\n",
              "      --disabled-bg-color: #DDD;\n",
              "  }\n",
              "\n",
              "  [theme=dark] .colab-df-quickchart {\n",
              "      --bg-color: #3B4455;\n",
              "      --fill-color: #D2E3FC;\n",
              "      --hover-bg-color: #434B5C;\n",
              "      --hover-fill-color: #FFFFFF;\n",
              "      --disabled-bg-color: #3B4455;\n",
              "      --disabled-fill-color: #666;\n",
              "  }\n",
              "\n",
              "  .colab-df-quickchart {\n",
              "    background-color: var(--bg-color);\n",
              "    border: none;\n",
              "    border-radius: 50%;\n",
              "    cursor: pointer;\n",
              "    display: none;\n",
              "    fill: var(--fill-color);\n",
              "    height: 32px;\n",
              "    padding: 0;\n",
              "    width: 32px;\n",
              "  }\n",
              "\n",
              "  .colab-df-quickchart:hover {\n",
              "    background-color: var(--hover-bg-color);\n",
              "    box-shadow: 0 1px 2px rgba(60, 64, 67, 0.3), 0 1px 3px 1px rgba(60, 64, 67, 0.15);\n",
              "    fill: var(--button-hover-fill-color);\n",
              "  }\n",
              "\n",
              "  .colab-df-quickchart-complete:disabled,\n",
              "  .colab-df-quickchart-complete:disabled:hover {\n",
              "    background-color: var(--disabled-bg-color);\n",
              "    fill: var(--disabled-fill-color);\n",
              "    box-shadow: none;\n",
              "  }\n",
              "\n",
              "  .colab-df-spinner {\n",
              "    border: 2px solid var(--fill-color);\n",
              "    border-color: transparent;\n",
              "    border-bottom-color: var(--fill-color);\n",
              "    animation:\n",
              "      spin 1s steps(1) infinite;\n",
              "  }\n",
              "\n",
              "  @keyframes spin {\n",
              "    0% {\n",
              "      border-color: transparent;\n",
              "      border-bottom-color: var(--fill-color);\n",
              "      border-left-color: var(--fill-color);\n",
              "    }\n",
              "    20% {\n",
              "      border-color: transparent;\n",
              "      border-left-color: var(--fill-color);\n",
              "      border-top-color: var(--fill-color);\n",
              "    }\n",
              "    30% {\n",
              "      border-color: transparent;\n",
              "      border-left-color: var(--fill-color);\n",
              "      border-top-color: var(--fill-color);\n",
              "      border-right-color: var(--fill-color);\n",
              "    }\n",
              "    40% {\n",
              "      border-color: transparent;\n",
              "      border-right-color: var(--fill-color);\n",
              "      border-top-color: var(--fill-color);\n",
              "    }\n",
              "    60% {\n",
              "      border-color: transparent;\n",
              "      border-right-color: var(--fill-color);\n",
              "    }\n",
              "    80% {\n",
              "      border-color: transparent;\n",
              "      border-right-color: var(--fill-color);\n",
              "      border-bottom-color: var(--fill-color);\n",
              "    }\n",
              "    90% {\n",
              "      border-color: transparent;\n",
              "      border-bottom-color: var(--fill-color);\n",
              "    }\n",
              "  }\n",
              "</style>\n",
              "\n",
              "  <script>\n",
              "    async function quickchart(key) {\n",
              "      const quickchartButtonEl =\n",
              "        document.querySelector('#' + key + ' button');\n",
              "      quickchartButtonEl.disabled = true;  // To prevent multiple clicks.\n",
              "      quickchartButtonEl.classList.add('colab-df-spinner');\n",
              "      try {\n",
              "        const charts = await google.colab.kernel.invokeFunction(\n",
              "            'suggestCharts', [key], {});\n",
              "      } catch (error) {\n",
              "        console.error('Error during call to suggestCharts:', error);\n",
              "      }\n",
              "      quickchartButtonEl.classList.remove('colab-df-spinner');\n",
              "      quickchartButtonEl.classList.add('colab-df-quickchart-complete');\n",
              "    }\n",
              "    (() => {\n",
              "      let quickchartButtonEl =\n",
              "        document.querySelector('#df-77b443f1-5653-4a5b-9f21-ef2e3251d77c button');\n",
              "      quickchartButtonEl.style.display =\n",
              "        google.colab.kernel.accessAllowed ? 'block' : 'none';\n",
              "    })();\n",
              "  </script>\n",
              "</div>\n",
              "\n",
              "    </div>\n",
              "  </div>\n"
            ],
            "application/vnd.google.colaboratory.intrinsic+json": {
              "type": "dataframe",
              "summary": "{\n  \"name\": \"data\",\n  \"rows\": 8,\n  \"fields\": [\n    {\n      \"column\": \"Open\",\n      \"properties\": {\n        \"dtype\": \"number\",\n        \"std\": 1403.9514705514598,\n        \"min\": 2.8353569507598877,\n        \"max\": 4027.0,\n        \"num_unique_values\": 8,\n        \"samples\": [\n          53.02107585918113,\n          28.25,\n          4027.0\n        ],\n        \"semantic_type\": \"\",\n        \"description\": \"\"\n      }\n    },\n    {\n      \"column\": \"High\",\n      \"properties\": {\n        \"dtype\": \"number\",\n        \"std\": 1403.7732646469176,\n        \"min\": 2.9285709857940674,\n        \"max\": 4027.0,\n        \"num_unique_values\": 8,\n        \"samples\": [\n          53.59568702721673,\n          28.545000076293945,\n          4027.0\n        ],\n        \"semantic_type\": \"\",\n        \"description\": \"\"\n      }\n    },\n    {\n      \"column\": \"Low\",\n      \"properties\": {\n        \"dtype\": \"number\",\n        \"std\": 1404.105719902062,\n        \"min\": 2.7928569316864014,\n        \"max\": 4027.0,\n        \"num_unique_values\": 8,\n        \"samples\": [\n          52.470802674673614,\n          27.950000762939453,\n          4027.0\n        ],\n        \"semantic_type\": \"\",\n        \"description\": \"\"\n      }\n    },\n    {\n      \"column\": \"Close\",\n      \"properties\": {\n        \"dtype\": \"number\",\n        \"std\": 1403.9377756241893,\n        \"min\": 2.7928569316864014,\n        \"max\": 4027.0,\n        \"num_unique_values\": 8,\n        \"samples\": [\n          53.05795337681975,\n          28.25,\n          4027.0\n        ],\n        \"semantic_type\": \"\",\n        \"description\": \"\"\n      }\n    },\n    {\n      \"column\": \"Adj Close\",\n      \"properties\": {\n        \"dtype\": \"number\",\n        \"std\": 1404.4232575792794,\n        \"min\": 2.3612282276153564,\n        \"max\": 4027.0,\n        \"num_unique_values\": 8,\n        \"samples\": [\n          51.0705946983165,\n          25.72979736328125,\n          4027.0\n        ],\n        \"semantic_type\": \"\",\n        \"description\": \"\"\n      }\n    },\n    {\n      \"column\": \"Volume\",\n      \"properties\": {\n        \"dtype\": \"number\",\n        \"std\": 1132989453.909721,\n        \"min\": 4027.0,\n        \"max\": 3372969600.0,\n        \"num_unique_values\": 8,\n        \"samples\": [\n          318489449.66476285,\n          184642000.0,\n          4027.0\n        ],\n        \"semantic_type\": \"\",\n        \"description\": \"\"\n      }\n    },\n    {\n      \"column\": \"VWAP\",\n      \"properties\": {\n        \"dtype\": \"number\",\n        \"std\": 1419.739573413498,\n        \"min\": 4.653317725998299,\n        \"max\": 4027.0,\n        \"num_unique_values\": 8,\n        \"samples\": [\n          12.088147893746802,\n          11.884617835950802,\n          4027.0\n        ],\n        \"semantic_type\": \"\",\n        \"description\": \"\"\n      }\n    }\n  ]\n}"
            }
          },
          "metadata": {},
          "execution_count": 14
        }
      ]
    },
    {
      "cell_type": "markdown",
      "source": [
        "# **MinMax Scaler for train and test data**"
      ],
      "metadata": {
        "id": "bgmPNdTz39v_"
      }
    },
    {
      "cell_type": "code",
      "source": [
        "import sklearn as sk\n",
        "from sklearn.preprocessing import MinMaxScaler"
      ],
      "metadata": {
        "id": "efjx1QSEm5EA"
      },
      "execution_count": null,
      "outputs": []
    },
    {
      "cell_type": "code",
      "source": [
        "scaler=MinMaxScaler()\n",
        "cols=['Open','High','Low','Close','Adj Close','Volume','VWAP']\n",
        "data[cols]=scaler.fit_transform(data[cols])\n",
        "print(data.head())"
      ],
      "metadata": {
        "colab": {
          "base_uri": "https://localhost:8080/"
        },
        "id": "diROdRjauy7h",
        "outputId": "572f29ef-7a1f-4b6b-c5eb-fdd727fb96d0"
      },
      "execution_count": null,
      "outputs": [
        {
          "output_type": "stream",
          "name": "stdout",
          "text": [
            "                Open      High       Low     Close  Adj Close    Volume  \\\n",
            "Date                                                                      \n",
            "2008-01-02  0.021935  0.021473  0.021029  0.021328   0.018040  0.315066   \n",
            "2008-01-03  0.021229  0.020952  0.021054  0.021344   0.018054  0.244263   \n",
            "2008-01-04  0.020504  0.020155  0.018517  0.018624   0.015753  0.427536   \n",
            "2008-01-07  0.018638  0.018448  0.016924  0.018183   0.015380  0.611583   \n",
            "2008-01-08  0.018435  0.018241  0.017029  0.017014   0.014391  0.447836   \n",
            "\n",
            "                VWAP  \n",
            "Date                  \n",
            "2008-01-02  0.120745  \n",
            "2008-01-03  0.120819  \n",
            "2008-01-04  0.108860  \n",
            "2008-01-07  0.101144  \n",
            "2008-01-08  0.095784  \n"
          ]
        }
      ]
    },
    {
      "cell_type": "code",
      "source": [
        "sns.heatmap(data.corr(), annot=True, cmap='coolwarm')"
      ],
      "metadata": {
        "colab": {
          "base_uri": "https://localhost:8080/",
          "height": 503
        },
        "id": "ykfaV-j66c3U",
        "outputId": "90d5e962-c6a1-493b-9792-44a175e73976"
      },
      "execution_count": null,
      "outputs": [
        {
          "output_type": "execute_result",
          "data": {
            "text/plain": [
              "<Axes: >"
            ]
          },
          "metadata": {},
          "execution_count": 17
        },
        {
          "output_type": "display_data",
          "data": {
            "text/plain": [
              "<Figure size 640x480 with 2 Axes>"
            ],
            "image/png": "[encoded data removed]"
          },
          "metadata": {}
        }
      ]
    },
    {
      "cell_type": "code",
      "source": [
        "test_data=yf.download('AAPL',start='2024-01-01',end='2024-08-01')\n",
        "print(test_data)"
      ],
      "metadata": {
        "colab": {
          "base_uri": "https://localhost:8080/"
        },
        "id": "K-MocZY1xauE",
        "outputId": "ffe86b30-9b0a-4b08-d3de-f92b5befc49a"
      },
      "execution_count": null,
      "outputs": [
        {
          "output_type": "stream",
          "name": "stderr",
          "text": [
            "\r[*********************100%%**********************]  1 of 1 completed"
          ]
        },
        {
          "output_type": "stream",
          "name": "stdout",
          "text": [
            "                  Open        High         Low       Close   Adj Close  \\\n",
            "Date                                                                     \n",
            "2024-01-02  187.149994  188.440002  183.889999  185.639999  185.152283   \n",
            "2024-01-03  184.220001  185.880005  183.429993  184.250000  183.765945   \n",
            "2024-01-04  182.149994  183.089996  180.880005  181.910004  181.432098   \n",
            "2024-01-05  181.990005  182.759995  180.169998  181.179993  180.703995   \n",
            "2024-01-08  182.089996  185.600006  181.500000  185.559998  185.072495   \n",
            "...                ...         ...         ...         ...         ...   \n",
            "2024-07-25  218.929993  220.850006  214.619995  217.490005  217.490005   \n",
            "2024-07-26  218.699997  219.490005  216.009995  217.960007  217.960007   \n",
            "2024-07-29  216.960007  219.300003  215.750000  218.240005  218.240005   \n",
            "2024-07-30  219.190002  220.330002  216.119995  218.800003  218.800003   \n",
            "2024-07-31  221.440002  223.820007  220.630005  222.080002  222.080002   \n",
            "\n",
            "              Volume  \n",
            "Date                  \n",
            "2024-01-02  82488700  \n",
            "2024-01-03  58414500  \n",
            "2024-01-04  71983600  \n",
            "2024-01-05  62303300  \n",
            "2024-01-08  59144500  \n",
            "...              ...  \n",
            "2024-07-25  51391200  \n",
            "2024-07-26  41601300  \n",
            "2024-07-29  36311800  \n",
            "2024-07-30  41643800  \n",
            "2024-07-31  50036300  \n",
            "\n",
            "[146 rows x 6 columns]\n"
          ]
        },
        {
          "output_type": "stream",
          "name": "stderr",
          "text": [
            "\n"
          ]
        }
      ]
    },
    {
      "cell_type": "code",
      "source": [
        "test_data['CumVol']=test_data['Volume'].cumsum()\n",
        "print(test_data.head())"
      ],
      "metadata": {
        "colab": {
          "base_uri": "https://localhost:8080/"
        },
        "id": "6G7KTMyXys9d",
        "outputId": "2e95981a-9ea4-48b5-fdcf-45a51e5b247e"
      },
      "execution_count": null,
      "outputs": [
        {
          "output_type": "stream",
          "name": "stdout",
          "text": [
            "                  Open        High         Low       Close   Adj Close  \\\n",
            "Date                                                                     \n",
            "2024-01-02  187.149994  188.440002  183.889999  185.639999  185.152283   \n",
            "2024-01-03  184.220001  185.880005  183.429993  184.250000  183.765945   \n",
            "2024-01-04  182.149994  183.089996  180.880005  181.910004  181.432098   \n",
            "2024-01-05  181.990005  182.759995  180.169998  181.179993  180.703995   \n",
            "2024-01-08  182.089996  185.600006  181.500000  185.559998  185.072495   \n",
            "\n",
            "              Volume     CumVol  \n",
            "Date                             \n",
            "2024-01-02  82488700   82488700  \n",
            "2024-01-03  58414500  140903200  \n",
            "2024-01-04  71983600  212886800  \n",
            "2024-01-05  62303300  275190100  \n",
            "2024-01-08  59144500  334334600  \n"
          ]
        }
      ]
    },
    {
      "cell_type": "code",
      "source": [
        "test_data['PriceVolume']=test_data['Close']*test_data['Volume']\n",
        "print(test_data.head())"
      ],
      "metadata": {
        "colab": {
          "base_uri": "https://localhost:8080/"
        },
        "id": "FOw9Q1IEzYUV",
        "outputId": "a1a03510-933b-408f-9dc5-5858da8e8c0d"
      },
      "execution_count": null,
      "outputs": [
        {
          "output_type": "stream",
          "name": "stdout",
          "text": [
            "                  Open        High         Low       Close   Adj Close  \\\n",
            "Date                                                                     \n",
            "2024-01-02  187.149994  188.440002  183.889999  185.639999  185.152283   \n",
            "2024-01-03  184.220001  185.880005  183.429993  184.250000  183.765945   \n",
            "2024-01-04  182.149994  183.089996  180.880005  181.910004  181.432098   \n",
            "2024-01-05  181.990005  182.759995  180.169998  181.179993  180.703995   \n",
            "2024-01-08  182.089996  185.600006  181.500000  185.559998  185.072495   \n",
            "\n",
            "              Volume     CumVol   PriceVolume  \n",
            "Date                                           \n",
            "2024-01-02  82488700   82488700  1.531320e+10  \n",
            "2024-01-03  58414500  140903200  1.076287e+10  \n",
            "2024-01-04  71983600  212886800  1.309454e+10  \n",
            "2024-01-05  62303300  275190100  1.128811e+10  \n",
            "2024-01-08  59144500  334334600  1.097485e+10  \n"
          ]
        }
      ]
    },
    {
      "cell_type": "code",
      "source": [
        "test_data['CumPriceVolume']=test_data['PriceVolume'].cumsum()\n",
        "print(test_data.head())"
      ],
      "metadata": {
        "colab": {
          "base_uri": "https://localhost:8080/"
        },
        "id": "ve9Sh-P7zyEd",
        "outputId": "b7737051-908c-4570-f0e2-8bd307ff767e"
      },
      "execution_count": null,
      "outputs": [
        {
          "output_type": "stream",
          "name": "stdout",
          "text": [
            "                  Open        High         Low       Close   Adj Close  \\\n",
            "Date                                                                     \n",
            "2024-01-02  187.149994  188.440002  183.889999  185.639999  185.152283   \n",
            "2024-01-03  184.220001  185.880005  183.429993  184.250000  183.765945   \n",
            "2024-01-04  182.149994  183.089996  180.880005  181.910004  181.432098   \n",
            "2024-01-05  181.990005  182.759995  180.169998  181.179993  180.703995   \n",
            "2024-01-08  182.089996  185.600006  181.500000  185.559998  185.072495   \n",
            "\n",
            "              Volume     CumVol   PriceVolume  CumPriceVolume  \n",
            "Date                                                           \n",
            "2024-01-02  82488700   82488700  1.531320e+10    1.531320e+10  \n",
            "2024-01-03  58414500  140903200  1.076287e+10    2.607607e+10  \n",
            "2024-01-04  71983600  212886800  1.309454e+10    3.917061e+10  \n",
            "2024-01-05  62303300  275190100  1.128811e+10    5.045872e+10  \n",
            "2024-01-08  59144500  334334600  1.097485e+10    6.143358e+10  \n"
          ]
        }
      ]
    },
    {
      "cell_type": "code",
      "source": [
        "test_data['VWAP']=test_data['CumPriceVolume']/test_data['CumVol']\n",
        "print(test_data.head())"
      ],
      "metadata": {
        "colab": {
          "base_uri": "https://localhost:8080/"
        },
        "id": "W2Kt_fYa1Nxv",
        "outputId": "c86c3713-308c-4e79-ed41-4c32a9de75af"
      },
      "execution_count": null,
      "outputs": [
        {
          "output_type": "stream",
          "name": "stdout",
          "text": [
            "                  Open        High         Low       Close   Adj Close  \\\n",
            "Date                                                                     \n",
            "2024-01-02  187.149994  188.440002  183.889999  185.639999  185.152283   \n",
            "2024-01-03  184.220001  185.880005  183.429993  184.250000  183.765945   \n",
            "2024-01-04  182.149994  183.089996  180.880005  181.910004  181.432098   \n",
            "2024-01-05  181.990005  182.759995  180.169998  181.179993  180.703995   \n",
            "2024-01-08  182.089996  185.600006  181.500000  185.559998  185.072495   \n",
            "\n",
            "              Volume     CumVol   PriceVolume  CumPriceVolume        VWAP  \n",
            "Date                                                                       \n",
            "2024-01-02  82488700   82488700  1.531320e+10    1.531320e+10  185.639999  \n",
            "2024-01-03  58414500  140903200  1.076287e+10    2.607607e+10  185.063745  \n",
            "2024-01-04  71983600  212886800  1.309454e+10    3.917061e+10  183.997368  \n",
            "2024-01-05  62303300  275190100  1.128811e+10    5.045872e+10  183.359511  \n",
            "2024-01-08  59144500  334334600  1.097485e+10    6.143358e+10  183.748782  \n"
          ]
        }
      ]
    },
    {
      "cell_type": "code",
      "source": [
        "test_data=test_data.drop(['PriceVolume','CumPriceVolume','CumVol'],axis=1)\n",
        "print(test_data.head())"
      ],
      "metadata": {
        "colab": {
          "base_uri": "https://localhost:8080/"
        },
        "id": "988Yvmmv2QLo",
        "outputId": "77418c7b-30d3-4d1a-8686-f205cf8b9786"
      },
      "execution_count": null,
      "outputs": [
        {
          "output_type": "stream",
          "name": "stdout",
          "text": [
            "                  Open        High         Low       Close   Adj Close  \\\n",
            "Date                                                                     \n",
            "2024-01-02  187.149994  188.440002  183.889999  185.639999  185.152283   \n",
            "2024-01-03  184.220001  185.880005  183.429993  184.250000  183.765945   \n",
            "2024-01-04  182.149994  183.089996  180.880005  181.910004  181.432098   \n",
            "2024-01-05  181.990005  182.759995  180.169998  181.179993  180.703995   \n",
            "2024-01-08  182.089996  185.600006  181.500000  185.559998  185.072495   \n",
            "\n",
            "              Volume        VWAP  \n",
            "Date                              \n",
            "2024-01-02  82488700  185.639999  \n",
            "2024-01-03  58414500  185.063745  \n",
            "2024-01-04  71983600  183.997368  \n",
            "2024-01-05  62303300  183.359511  \n",
            "2024-01-08  59144500  183.748782  \n"
          ]
        }
      ]
    },
    {
      "cell_type": "code",
      "source": [
        "cols=['Open','High','Low','Close','Adj Close','Volume','VWAP']\n",
        "test_data[cols]=scaler.fit_transform(test_data[cols])\n",
        "print(test_data.head())"
      ],
      "metadata": {
        "colab": {
          "base_uri": "https://localhost:8080/"
        },
        "id": "b-FTavUr3r2T",
        "outputId": "79338604-f5a3-47f9-b4f3-72583e9ac3c5"
      },
      "execution_count": null,
      "outputs": [
        {
          "output_type": "stream",
          "name": "stdout",
          "text": [
            "                Open      High       Low     Close  Adj Close    Volume  \\\n",
            "Date                                                                      \n",
            "2024-01-02  0.306481  0.311168  0.287060  0.295617   0.290902  0.225903   \n",
            "2024-01-03  0.265289  0.275025  0.280394  0.275709   0.271109  0.112224   \n",
            "2024-01-04  0.236187  0.235635  0.243443  0.242194   0.237789  0.176298   \n",
            "2024-01-05  0.233938  0.230976  0.233155  0.231739   0.227394  0.130587   \n",
            "2024-01-08  0.235344  0.271072  0.252427  0.294471   0.289763  0.115671   \n",
            "\n",
            "                VWAP  \n",
            "Date                  \n",
            "2024-01-02  0.602250  \n",
            "2024-01-03  0.556218  \n",
            "2024-01-04  0.471035  \n",
            "2024-01-05  0.420083  \n",
            "2024-01-08  0.451178  \n"
          ]
        }
      ]
    },
    {
      "cell_type": "code",
      "source": [],
      "metadata": {
        "id": "Y5vNVjeUHJfc"
      },
      "execution_count": null,
      "outputs": []
    },
    {
      "cell_type": "markdown",
      "source": [
        "# **Exploratory Data Analysis**"
      ],
      "metadata": {
        "id": "7BtY-Zf9ebEy"
      }
    },
    {
      "cell_type": "code",
      "source": [
        "from statsmodels.tsa.seasonal import seasonal_decompose\n",
        "\n",
        "result = seasonal_decompose(data['Close'], model='additive', period=252)\n",
        "result.plot()\n",
        "plt.show()"
      ],
      "metadata": {
        "colab": {
          "base_uri": "https://localhost:8080/",
          "height": 487
        },
        "id": "Y9SbK6Gi31k7",
        "outputId": "2f4760e8-15c9-488d-cfb9-bfce950f2654"
      },
      "execution_count": null,
      "outputs": [
        {
          "output_type": "display_data",
          "data": {
            "text/plain": [
              "<Figure size 640x480 with 4 Axes>"
            ],
            "image/png": "[encoded data removed]"
          },
          "metadata": {}
        }
      ]
    },
    {
      "cell_type": "code",
      "source": [
        "plt.figure(figsize=(12, 6))\n",
        "plt.title(f\"AAP: Close Price - 2008 to 2024\")\n",
        "plt.xlabel(\"Date\")\n",
        "plt.ylabel(\"Close\")\n",
        "data[\"Close\"].plot()\n",
        "plt.tight_layout()\n",
        "plt.show()"
      ],
      "metadata": {
        "colab": {
          "base_uri": "https://localhost:8080/",
          "height": 607
        },
        "id": "osC1C8x8HSCp",
        "outputId": "1cfa5934-bbdc-48a1-8e37-3bbd49815bf6"
      },
      "execution_count": null,
      "outputs": [
        {
          "output_type": "display_data",
          "data": {
            "text/plain": [
              "<Figure size 1200x600 with 1 Axes>"
            ],
            "image/png": "[encoded data removed]"
          },
          "metadata": {}
        }
      ]
    },
    {
      "cell_type": "code",
      "source": [
        "data['MA7'] = data['Close'].rolling(window=7).mean()\n",
        "data['MA30'] = data['Close'].rolling(window=30).mean()\n",
        "data['StdDev'] = data['Close'].rolling(window=30).std()\n",
        "\n",
        "data[['Close', 'MA7', 'MA30', 'StdDev']].plot(figsize=(12, 6))\n",
        "plt.show()"
      ],
      "metadata": {
        "colab": {
          "base_uri": "https://localhost:8080/",
          "height": 504
        },
        "id": "_Rh7XMrc8Bi_",
        "outputId": "d6df9433-f58d-4660-e6c7-076274ba787d"
      },
      "execution_count": null,
      "outputs": [
        {
          "output_type": "display_data",
          "data": {
            "text/plain": [
              "<Figure size 1200x600 with 1 Axes>"
            ],
            "image/png": "[encoded data removed]"
          },
          "metadata": {}
        }
      ]
    },
    {
      "cell_type": "code",
      "source": [
        "sns.histplot(data['Close'], kde=True)\n",
        "plt.show()"
      ],
      "metadata": {
        "colab": {
          "base_uri": "https://localhost:8080/",
          "height": 449
        },
        "id": "apZv-G3kKyVh",
        "outputId": "732e6ece-c00b-4d56-bae4-1a1ee92361cc"
      },
      "execution_count": null,
      "outputs": [
        {
          "output_type": "display_data",
          "data": {
            "text/plain": [
              "<Figure size 640x480 with 1 Axes>"
            ],
            "image/png": "[encoded data removed]"
          },
          "metadata": {}
        }
      ]
    },
    {
      "cell_type": "markdown",
      "source": [
        "The graph represents the data is towards right side but some portion is not present"
      ],
      "metadata": {
        "id": "eo5ct9-wO9Ou"
      }
    },
    {
      "cell_type": "code",
      "source": [
        "plt.scatter(data['Close'].shift(1), data['Close'])\n",
        "plt.xlabel('Close (Lagged 1)')\n",
        "plt.ylabel('Close')\n",
        "plt.show()"
      ],
      "metadata": {
        "colab": {
          "base_uri": "https://localhost:8080/",
          "height": 449
        },
        "id": "CURs7RK7NbrA",
        "outputId": "320ef8bf-e243-4a7f-d5b1-1cb565ebb5d1"
      },
      "execution_count": null,
      "outputs": [
        {
          "output_type": "display_data",
          "data": {
            "text/plain": [
              "<Figure size 640x480 with 1 Axes>"
            ],
            "image/png": "[encoded data removed]"
          },
          "metadata": {}
        }
      ]
    },
    {
      "cell_type": "code",
      "source": [
        "plt.scatter(data['Close'].shift(7), data['Close'])\n",
        "plt.xlabel('Close (Lagged 7)')\n",
        "plt.ylabel('Close')\n",
        "plt.show()"
      ],
      "metadata": {
        "colab": {
          "base_uri": "https://localhost:8080/",
          "height": 449
        },
        "id": "J82NKQrbNr41",
        "outputId": "85546e01-16f6-4adf-b91e-975a49563c54"
      },
      "execution_count": null,
      "outputs": [
        {
          "output_type": "display_data",
          "data": {
            "text/plain": [
              "<Figure size 640x480 with 1 Axes>"
            ],
            "image/png": "[encoded data removed]"
          },
          "metadata": {}
        }
      ]
    },
    {
      "cell_type": "markdown",
      "source": [
        "It represents a high positive corelation"
      ],
      "metadata": {
        "id": "3Ew_lmISOFyK"
      }
    },
    {
      "cell_type": "code",
      "source": [
        "sns.boxplot(data['Close'])\n",
        "plt.show()"
      ],
      "metadata": {
        "colab": {
          "base_uri": "https://localhost:8080/",
          "height": 411
        },
        "id": "vUZD7B_OTfSG",
        "outputId": "003928cb-5a79-4658-f2ea-ec5503337dcc"
      },
      "execution_count": null,
      "outputs": [
        {
          "output_type": "display_data",
          "data": {
            "text/plain": [
              "<Figure size 640x480 with 1 Axes>"
            ],
            "image/png": "[encoded data removed]"
          },
          "metadata": {}
        }
      ]
    },
    {
      "cell_type": "markdown",
      "source": [
        "This data contains outliers"
      ],
      "metadata": {
        "id": "pAjeNqmuUOdX"
      }
    },
    {
      "cell_type": "markdown",
      "source": [
        "# **Approaches to confirm and remove outliers**"
      ],
      "metadata": {
        "id": "-_coHz2_eoTt"
      }
    },
    {
      "cell_type": "code",
      "source": [
        "from scipy import stats\n",
        "z_scores = stats.zscore(data['Close'])\n",
        "outliers = data['Close'][abs(z_scores) > 3]\n",
        "print(outliers)"
      ],
      "metadata": {
        "colab": {
          "base_uri": "https://localhost:8080/"
        },
        "id": "wkd7PXYiUpW6",
        "outputId": "8d618913-9d5c-4f6b-f431-8225c7167f72"
      },
      "execution_count": null,
      "outputs": [
        {
          "output_type": "stream",
          "name": "stdout",
          "text": [
            "Series([], Name: Close, dtype: float64)\n"
          ]
        }
      ]
    },
    {
      "cell_type": "markdown",
      "source": [
        "Outliers are confirmed based on the IQR"
      ],
      "metadata": {
        "id": "FweoPSLsZTF3"
      }
    },
    {
      "cell_type": "code",
      "source": [
        "Q1 = data['Close'].quantile(0.25)\n",
        "Q3 = data['Close'].quantile(0.75)\n",
        "IQR = Q3 - Q1\n",
        "outliers = data['Close'][((data['Close'] < (Q1 - 1.5 * IQR)) | (data['Close'] > (Q3 + 1.5 * IQR)))]\n",
        "print(outliers.count())"
      ],
      "metadata": {
        "colab": {
          "base_uri": "https://localhost:8080/"
        },
        "id": "Ym0elLlhWI3M",
        "outputId": "5179432a-4c7c-4c37-9096-5a544921b3ec"
      },
      "execution_count": null,
      "outputs": [
        {
          "output_type": "stream",
          "name": "stdout",
          "text": [
            "525\n"
          ]
        }
      ]
    },
    {
      "cell_type": "code",
      "source": [
        "filtered_data = data[~((data['Close'] < (Q1 - 1.5 * IQR)) | (data['Close'] > (Q3 + 1.5 * IQR)))]"
      ],
      "metadata": {
        "id": "VLgsPwjRZHAv"
      },
      "execution_count": null,
      "outputs": []
    },
    {
      "cell_type": "code",
      "source": [
        "filtered_data.loc[:,'Close_Lag1'] = filtered_data['Close'].shift(1)\n",
        "filtered_data.loc[:,'Close_Lag5'] = filtered_data['Close'].shift(5)\n",
        "filtered_data.loc[:,'Close_Lag180'] = filtered_data['Close'].shift(180)\n",
        "filtered_data = filtered_data.dropna()"
      ],
      "metadata": {
        "colab": {
          "base_uri": "https://localhost:8080/"
        },
        "id": "Nx4jOy8-Ob-O",
        "outputId": "21fdf4be-689e-4a2b-d3e2-b26de743c2b2"
      },
      "execution_count": null,
      "outputs": [
        {
          "output_type": "stream",
          "name": "stderr",
          "text": [
            "<ipython-input-35-912654939447>:1: SettingWithCopyWarning: \n",
            "A value is trying to be set on a copy of a slice from a DataFrame.\n",
            "Try using .loc[row_indexer,col_indexer] = value instead\n",
            "\n",
            "See the caveats in the documentation: https://pandas.pydata.org/pandas-docs/stable/user_guide/indexing.html#returning-a-view-versus-a-copy\n",
            "  filtered_data.loc[:,'Close_Lag1'] = filtered_data['Close'].shift(1)\n",
            "<ipython-input-35-912654939447>:2: SettingWithCopyWarning: \n",
            "A value is trying to be set on a copy of a slice from a DataFrame.\n",
            "Try using .loc[row_indexer,col_indexer] = value instead\n",
            "\n",
            "See the caveats in the documentation: https://pandas.pydata.org/pandas-docs/stable/user_guide/indexing.html#returning-a-view-versus-a-copy\n",
            "  filtered_data.loc[:,'Close_Lag5'] = filtered_data['Close'].shift(5)\n",
            "<ipython-input-35-912654939447>:3: SettingWithCopyWarning: \n",
            "A value is trying to be set on a copy of a slice from a DataFrame.\n",
            "Try using .loc[row_indexer,col_indexer] = value instead\n",
            "\n",
            "See the caveats in the documentation: https://pandas.pydata.org/pandas-docs/stable/user_guide/indexing.html#returning-a-view-versus-a-copy\n",
            "  filtered_data.loc[:,'Close_Lag180'] = filtered_data['Close'].shift(180)\n"
          ]
        }
      ]
    },
    {
      "cell_type": "markdown",
      "source": [
        "\n",
        "# **Model Selection**"
      ],
      "metadata": {
        "id": "SogQ5YH_TdgL"
      }
    },
    {
      "cell_type": "markdown",
      "source": [
        "predicting stock for next 5 days is ARIMA model"
      ],
      "metadata": {
        "id": "4yUDHL89fGXu"
      }
    },
    {
      "cell_type": "code",
      "source": [
        "filtered_data.head()"
      ],
      "metadata": {
        "colab": {
          "base_uri": "https://localhost:8080/",
          "height": 238
        },
        "id": "P18CoJWJe8qS",
        "outputId": "c4031002-d6c2-4bcd-8989-e0096fc4b895"
      },
      "execution_count": null,
      "outputs": [
        {
          "output_type": "execute_result",
          "data": {
            "text/plain": [
              "                Open      High       Low     Close  Adj Close    Volume  \\\n",
              "Date                                                                      \n",
              "2008-09-18  0.009365  0.009702  0.007812  0.010220   0.008644  0.493354   \n",
              "2008-09-19  0.011566  0.011294  0.010686  0.011467   0.009699  0.420084   \n",
              "2008-09-22  0.011079  0.010577  0.009647  0.009664   0.008174  0.248637   \n",
              "2008-09-23  0.009599  0.009769  0.008912  0.008894   0.007523  0.375141   \n",
              "2008-09-24  0.008761  0.008888  0.008634  0.009236   0.007812  0.305462   \n",
              "\n",
              "                VWAP       MA7      MA30    StdDev  Close_Lag1  Close_Lag5  \\\n",
              "Date                                                                         \n",
              "2008-09-18  0.048829  0.011702  0.015672  0.002631    0.009075    0.013613   \n",
              "2008-09-19  0.048612  0.011422  0.015534  0.002741    0.010220    0.012935   \n",
              "2008-09-22  0.048402  0.010858  0.015299  0.002932    0.011467    0.011366   \n",
              "2008-09-23  0.048038  0.010281  0.015014  0.003126    0.009664    0.011278   \n",
              "2008-09-24  0.047764  0.009976  0.014722  0.003244    0.008894    0.009075   \n",
              "\n",
              "            Close_Lag180  \n",
              "Date                      \n",
              "2008-09-18      0.021328  \n",
              "2008-09-19      0.021344  \n",
              "2008-09-22      0.018624  \n",
              "2008-09-23      0.018183  \n",
              "2008-09-24      0.017014  "
            ],
            "text/html": [
              "\n",
              "  <div id=\"df-fa676bf6-3773-40be-8a79-61cdd4fc3a78\" class=\"colab-df-container\">\n",
              "    <div>\n",
              "<style scoped>\n",
              "    .dataframe tbody tr th:only-of-type {\n",
              "        vertical-align: middle;\n",
              "    }\n",
              "\n",
              "    .dataframe tbody tr th {\n",
              "        vertical-align: top;\n",
              "    }\n",
              "\n",
              "    .dataframe thead th {\n",
              "        text-align: right;\n",
              "    }\n",
              "</style>\n",
              "<table border=\"1\" class=\"dataframe\">\n",
              "  <thead>\n",
              "    <tr style=\"text-align: right;\">\n",
              "      <th></th>\n",
              "      <th>Open</th>\n",
              "      <th>High</th>\n",
              "      <th>Low</th>\n",
              "      <th>Close</th>\n",
              "      <th>Adj Close</th>\n",
              "      <th>Volume</th>\n",
              "      <th>VWAP</th>\n",
              "      <th>MA7</th>\n",
              "      <th>MA30</th>\n",
              "      <th>StdDev</th>\n",
              "      <th>Close_Lag1</th>\n",
              "      <th>Close_Lag5</th>\n",
              "      <th>Close_Lag180</th>\n",
              "    </tr>\n",
              "    <tr>\n",
              "      <th>Date</th>\n",
              "      <th></th>\n",
              "      <th></th>\n",
              "      <th></th>\n",
              "      <th></th>\n",
              "      <th></th>\n",
              "      <th></th>\n",
              "      <th></th>\n",
              "      <th></th>\n",
              "      <th></th>\n",
              "      <th></th>\n",
              "      <th></th>\n",
              "      <th></th>\n",
              "      <th></th>\n",
              "    </tr>\n",
              "  </thead>\n",
              "  <tbody>\n",
              "    <tr>\n",
              "      <th>2008-09-18</th>\n",
              "      <td>0.009365</td>\n",
              "      <td>0.009702</td>\n",
              "      <td>0.007812</td>\n",
              "      <td>0.010220</td>\n",
              "      <td>0.008644</td>\n",
              "      <td>0.493354</td>\n",
              "      <td>0.048829</td>\n",
              "      <td>0.011702</td>\n",
              "      <td>0.015672</td>\n",
              "      <td>0.002631</td>\n",
              "      <td>0.009075</td>\n",
              "      <td>0.013613</td>\n",
              "      <td>0.021328</td>\n",
              "    </tr>\n",
              "    <tr>\n",
              "      <th>2008-09-19</th>\n",
              "      <td>0.011566</td>\n",
              "      <td>0.011294</td>\n",
              "      <td>0.010686</td>\n",
              "      <td>0.011467</td>\n",
              "      <td>0.009699</td>\n",
              "      <td>0.420084</td>\n",
              "      <td>0.048612</td>\n",
              "      <td>0.011422</td>\n",
              "      <td>0.015534</td>\n",
              "      <td>0.002741</td>\n",
              "      <td>0.010220</td>\n",
              "      <td>0.012935</td>\n",
              "      <td>0.021344</td>\n",
              "    </tr>\n",
              "    <tr>\n",
              "      <th>2008-09-22</th>\n",
              "      <td>0.011079</td>\n",
              "      <td>0.010577</td>\n",
              "      <td>0.009647</td>\n",
              "      <td>0.009664</td>\n",
              "      <td>0.008174</td>\n",
              "      <td>0.248637</td>\n",
              "      <td>0.048402</td>\n",
              "      <td>0.010858</td>\n",
              "      <td>0.015299</td>\n",
              "      <td>0.002932</td>\n",
              "      <td>0.011467</td>\n",
              "      <td>0.011366</td>\n",
              "      <td>0.018624</td>\n",
              "    </tr>\n",
              "    <tr>\n",
              "      <th>2008-09-23</th>\n",
              "      <td>0.009599</td>\n",
              "      <td>0.009769</td>\n",
              "      <td>0.008912</td>\n",
              "      <td>0.008894</td>\n",
              "      <td>0.007523</td>\n",
              "      <td>0.375141</td>\n",
              "      <td>0.048038</td>\n",
              "      <td>0.010281</td>\n",
              "      <td>0.015014</td>\n",
              "      <td>0.003126</td>\n",
              "      <td>0.009664</td>\n",
              "      <td>0.011278</td>\n",
              "      <td>0.018183</td>\n",
              "    </tr>\n",
              "    <tr>\n",
              "      <th>2008-09-24</th>\n",
              "      <td>0.008761</td>\n",
              "      <td>0.008888</td>\n",
              "      <td>0.008634</td>\n",
              "      <td>0.009236</td>\n",
              "      <td>0.007812</td>\n",
              "      <td>0.305462</td>\n",
              "      <td>0.047764</td>\n",
              "      <td>0.009976</td>\n",
              "      <td>0.014722</td>\n",
              "      <td>0.003244</td>\n",
              "      <td>0.008894</td>\n",
              "      <td>0.009075</td>\n",
              "      <td>0.017014</td>\n",
              "    </tr>\n",
              "  </tbody>\n",
              "</table>\n",
              "</div>\n",
              "    <div class=\"colab-df-buttons\">\n",
              "\n",
              "  <div class=\"colab-df-container\">\n",
              "    <button class=\"colab-df-convert\" onclick=\"convertToInteractive('df-fa676bf6-3773-40be-8a79-61cdd4fc3a78')\"\n",
              "            title=\"Convert this dataframe to an interactive table.\"\n",
              "            style=\"display:none;\">\n",
              "\n",
              "  <svg xmlns=\"http://www.w3.org/2000/svg\" height=\"24px\" viewBox=\"0 -960 960 960\">\n",
              "    <path d=\"M120-120v-720h720v720H120Zm60-500h600v-160H180v160Zm220 220h160v-160H400v160Zm0 220h160v-160H400v160ZM180-400h160v-160H180v160Zm440 0h160v-160H620v160ZM180-180h160v-160H180v160Zm440 0h160v-160H620v160Z\"/>\n",
              "  </svg>\n",
              "    </button>\n",
              "\n",
              "  <style>\n",
              "    .colab-df-container {\n",
              "      display:flex;\n",
              "      gap: 12px;\n",
              "    }\n",
              "\n",
              "    .colab-df-convert {\n",
              "      background-color: #E8F0FE;\n",
              "      border: none;\n",
              "      border-radius: 50%;\n",
              "      cursor: pointer;\n",
              "      display: none;\n",
              "      fill: #1967D2;\n",
              "      height: 32px;\n",
              "      padding: 0 0 0 0;\n",
              "      width: 32px;\n",
              "    }\n",
              "\n",
              "    .colab-df-convert:hover {\n",
              "      background-color: #E2EBFA;\n",
              "      box-shadow: 0px 1px 2px rgba(60, 64, 67, 0.3), 0px 1px 3px 1px rgba(60, 64, 67, 0.15);\n",
              "      fill: #174EA6;\n",
              "    }\n",
              "\n",
              "    .colab-df-buttons div {\n",
              "      margin-bottom: 4px;\n",
              "    }\n",
              "\n",
              "    [theme=dark] .colab-df-convert {\n",
              "      background-color: #3B4455;\n",
              "      fill: #D2E3FC;\n",
              "    }\n",
              "\n",
              "    [theme=dark] .colab-df-convert:hover {\n",
              "      background-color: #434B5C;\n",
              "      box-shadow: 0px 1px 3px 1px rgba(0, 0, 0, 0.15);\n",
              "      filter: drop-shadow(0px 1px 2px rgba(0, 0, 0, 0.3));\n",
              "      fill: #FFFFFF;\n",
              "    }\n",
              "  </style>\n",
              "\n",
              "    <script>\n",
              "      const buttonEl =\n",
              "        document.querySelector('#df-fa676bf6-3773-40be-8a79-61cdd4fc3a78 button.colab-df-convert');\n",
              "      buttonEl.style.display =\n",
              "        google.colab.kernel.accessAllowed ? 'block' : 'none';\n",
              "\n",
              "      async function convertToInteractive(key) {\n",
              "        const element = document.querySelector('#df-fa676bf6-3773-40be-8a79-61cdd4fc3a78');\n",
              "        const dataTable =\n",
              "          await google.colab.kernel.invokeFunction('convertToInteractive',\n",
              "                                                    [key], {});\n",
              "        if (!dataTable) return;\n",
              "\n",
              "        const docLinkHtml = 'Like what you see? Visit the ' +\n",
              "          '<a target=\"_blank\" href=https://colab.research.google.com/notebooks/data_table.ipynb>data table notebook</a>'\n",
              "          + ' to learn more about interactive tables.';\n",
              "        element.innerHTML = '';\n",
              "        dataTable['output_type'] = 'display_data';\n",
              "        await google.colab.output.renderOutput(dataTable, element);\n",
              "        const docLink = document.createElement('div');\n",
              "        docLink.innerHTML = docLinkHtml;\n",
              "        element.appendChild(docLink);\n",
              "      }\n",
              "    </script>\n",
              "  </div>\n",
              "\n",
              "\n",
              "<div id=\"df-4973300a-9e7b-4048-8b39-3b40a0877d1a\">\n",
              "  <button class=\"colab-df-quickchart\" onclick=\"quickchart('df-4973300a-9e7b-4048-8b39-3b40a0877d1a')\"\n",
              "            title=\"Suggest charts\"\n",
              "            style=\"display:none;\">\n",
              "\n",
              "<svg xmlns=\"http://www.w3.org/2000/svg\" height=\"24px\"viewBox=\"0 0 24 24\"\n",
              "     width=\"24px\">\n",
              "    <g>\n",
              "        <path d=\"M19 3H5c-1.1 0-2 .9-2 2v14c0 1.1.9 2 2 2h14c1.1 0 2-.9 2-2V5c0-1.1-.9-2-2-2zM9 17H7v-7h2v7zm4 0h-2V7h2v10zm4 0h-2v-4h2v4z\"/>\n",
              "    </g>\n",
              "</svg>\n",
              "  </button>\n",
              "\n",
              "<style>\n",
              "  .colab-df-quickchart {\n",
              "      --bg-color: #E8F0FE;\n",
              "      --fill-color: #1967D2;\n",
              "      --hover-bg-color: #E2EBFA;\n",
              "      --hover-fill-color: #174EA6;\n",
              "      --disabled-fill-color: #AAA;\n",
              "      --disabled-bg-color: #DDD;\n",
              "  }\n",
              "\n",
              "  [theme=dark] .colab-df-quickchart {\n",
              "      --bg-color: #3B4455;\n",
              "      --fill-color: #D2E3FC;\n",
              "      --hover-bg-color: #434B5C;\n",
              "      --hover-fill-color: #FFFFFF;\n",
              "      --disabled-bg-color: #3B4455;\n",
              "      --disabled-fill-color: #666;\n",
              "  }\n",
              "\n",
              "  .colab-df-quickchart {\n",
              "    background-color: var(--bg-color);\n",
              "    border: none;\n",
              "    border-radius: 50%;\n",
              "    cursor: pointer;\n",
              "    display: none;\n",
              "    fill: var(--fill-color);\n",
              "    height: 32px;\n",
              "    padding: 0;\n",
              "    width: 32px;\n",
              "  }\n",
              "\n",
              "  .colab-df-quickchart:hover {\n",
              "    background-color: var(--hover-bg-color);\n",
              "    box-shadow: 0 1px 2px rgba(60, 64, 67, 0.3), 0 1px 3px 1px rgba(60, 64, 67, 0.15);\n",
              "    fill: var(--button-hover-fill-color);\n",
              "  }\n",
              "\n",
              "  .colab-df-quickchart-complete:disabled,\n",
              "  .colab-df-quickchart-complete:disabled:hover {\n",
              "    background-color: var(--disabled-bg-color);\n",
              "    fill: var(--disabled-fill-color);\n",
              "    box-shadow: none;\n",
              "  }\n",
              "\n",
              "  .colab-df-spinner {\n",
              "    border: 2px solid var(--fill-color);\n",
              "    border-color: transparent;\n",
              "    border-bottom-color: var(--fill-color);\n",
              "    animation:\n",
              "      spin 1s steps(1) infinite;\n",
              "  }\n",
              "\n",
              "  @keyframes spin {\n",
              "    0% {\n",
              "      border-color: transparent;\n",
              "      border-bottom-color: var(--fill-color);\n",
              "      border-left-color: var(--fill-color);\n",
              "    }\n",
              "    20% {\n",
              "      border-color: transparent;\n",
              "      border-left-color: var(--fill-color);\n",
              "      border-top-color: var(--fill-color);\n",
              "    }\n",
              "    30% {\n",
              "      border-color: transparent;\n",
              "      border-left-color: var(--fill-color);\n",
              "      border-top-color: var(--fill-color);\n",
              "      border-right-color: var(--fill-color);\n",
              "    }\n",
              "    40% {\n",
              "      border-color: transparent;\n",
              "      border-right-color: var(--fill-color);\n",
              "      border-top-color: var(--fill-color);\n",
              "    }\n",
              "    60% {\n",
              "      border-color: transparent;\n",
              "      border-right-color: var(--fill-color);\n",
              "    }\n",
              "    80% {\n",
              "      border-color: transparent;\n",
              "      border-right-color: var(--fill-color);\n",
              "      border-bottom-color: var(--fill-color);\n",
              "    }\n",
              "    90% {\n",
              "      border-color: transparent;\n",
              "      border-bottom-color: var(--fill-color);\n",
              "    }\n",
              "  }\n",
              "</style>\n",
              "\n",
              "  <script>\n",
              "    async function quickchart(key) {\n",
              "      const quickchartButtonEl =\n",
              "        document.querySelector('#' + key + ' button');\n",
              "      quickchartButtonEl.disabled = true;  // To prevent multiple clicks.\n",
              "      quickchartButtonEl.classList.add('colab-df-spinner');\n",
              "      try {\n",
              "        const charts = await google.colab.kernel.invokeFunction(\n",
              "            'suggestCharts', [key], {});\n",
              "      } catch (error) {\n",
              "        console.error('Error during call to suggestCharts:', error);\n",
              "      }\n",
              "      quickchartButtonEl.classList.remove('colab-df-spinner');\n",
              "      quickchartButtonEl.classList.add('colab-df-quickchart-complete');\n",
              "    }\n",
              "    (() => {\n",
              "      let quickchartButtonEl =\n",
              "        document.querySelector('#df-4973300a-9e7b-4048-8b39-3b40a0877d1a button');\n",
              "      quickchartButtonEl.style.display =\n",
              "        google.colab.kernel.accessAllowed ? 'block' : 'none';\n",
              "    })();\n",
              "  </script>\n",
              "</div>\n",
              "\n",
              "    </div>\n",
              "  </div>\n"
            ],
            "application/vnd.google.colaboratory.intrinsic+json": {
              "type": "dataframe",
              "variable_name": "filtered_data",
              "summary": "{\n  \"name\": \"filtered_data\",\n  \"rows\": 3322,\n  \"fields\": [\n    {\n      \"column\": \"Date\",\n      \"properties\": {\n        \"dtype\": \"date\",\n        \"min\": \"2008-09-18 00:00:00\",\n        \"max\": \"2023-01-31 00:00:00\",\n        \"num_unique_values\": 3322,\n        \"samples\": [\n          \"2012-11-29 00:00:00\",\n          \"2011-12-07 00:00:00\",\n          \"2019-04-11 00:00:00\"\n        ],\n        \"semantic_type\": \"\",\n        \"description\": \"\"\n      }\n    },\n    {\n      \"column\": \"Open\",\n      \"properties\": {\n        \"dtype\": \"number\",\n        \"std\": 0.18146069158018635,\n        \"min\": 0.0,\n        \"max\": 0.739016346109192,\n        \"num_unique_values\": 3184,\n        \"samples\": [\n          0.08687012129291222,\n          0.10966904950781949,\n          0.05515107657503246\n        ],\n        \"semantic_type\": \"\",\n        \"description\": \"\"\n      }\n    },\n    {\n      \"column\": \"High\",\n      \"properties\": {\n        \"dtype\": \"number\",\n        \"std\": 0.1823109104464999,\n        \"min\": 0.0,\n        \"max\": 0.7373042653124072,\n        \"num_unique_values\": 3160,\n        \"samples\": [\n          0.1870133926912467,\n          0.22912248536054886,\n          0.0776125112116922\n        ],\n        \"semantic_type\": \"\",\n        \"description\": \"\"\n      }\n    },\n    {\n      \"column\": \"Low\",\n      \"properties\": {\n        \"dtype\": \"number\",\n        \"std\": 0.1798941831929152,\n        \"min\": 0.0,\n        \"max\": 0.7270955168659429,\n        \"num_unique_values\": 3178,\n        \"samples\": [\n          0.08908014481768085,\n          0.12465887309744997,\n          0.053722094157837956\n        ],\n        \"semantic_type\": \"\",\n        \"description\": \"\"\n      }\n    },\n    {\n      \"column\": \"Close\",\n      \"properties\": {\n        \"dtype\": \"number\",\n        \"std\": 0.18126773780172986,\n        \"min\": 0.0,\n        \"max\": 0.7258817517103539,\n        \"num_unique_values\": 3188,\n        \"samples\": [\n          0.08495889435499834,\n          0.10627221574225339,\n          0.05425973655164939\n        ],\n        \"semantic_type\": \"\",\n        \"description\": \"\"\n      }\n    },\n    {\n      \"column\": \"Adj Close\",\n      \"properties\": {\n        \"dtype\": \"number\",\n        \"std\": 0.18090352849400615,\n        \"min\": 0.0,\n        \"max\": 0.7219657563327483,\n        \"num_unique_values\": 3274,\n        \"samples\": [\n          0.02690686034160438,\n          0.5992520696352611,\n          0.2019647523354426\n        ],\n        \"semantic_type\": \"\",\n        \"description\": \"\"\n      }\n    },\n    {\n      \"column\": \"Volume\",\n      \"properties\": {\n        \"dtype\": \"number\",\n        \"std\": 0.08676230645463555,\n        \"min\": 0.006390027738185427,\n        \"max\": 0.7757748442759763,\n        \"num_unique_values\": 3312,\n        \"samples\": [\n          0.33583174976372243,\n          0.0863566725201933,\n          0.06978202204990605\n        ],\n        \"semantic_type\": \"\",\n        \"description\": \"\"\n      }\n    },\n    {\n      \"column\": \"VWAP\",\n      \"properties\": {\n        \"dtype\": \"number\",\n        \"std\": 0.2154189822593876,\n        \"min\": 0.0,\n        \"max\": 0.9167362988129275,\n        \"num_unique_values\": 3322,\n        \"samples\": [\n          0.23893917656080998,\n          0.133862876459716,\n          0.5006527292326775\n        ],\n        \"semantic_type\": \"\",\n        \"description\": \"\"\n      }\n    },\n    {\n      \"column\": \"MA7\",\n      \"properties\": {\n        \"dtype\": \"number\",\n        \"std\": 0.1812766012699447,\n        \"min\": 0.001064203562282108,\n        \"max\": 0.7724799183629342,\n        \"num_unique_values\": 3316,\n        \"samples\": [\n          0.16793017919351616,\n          0.10850667852050033,\n          0.01649541330075439\n        ],\n        \"semantic_type\": \"\",\n        \"description\": \"\"\n      }\n    },\n    {\n      \"column\": \"MA30\",\n      \"properties\": {\n        \"dtype\": \"number\",\n        \"std\": 0.18124543664940906,\n        \"min\": 0.0018243235282193696,\n        \"max\": 0.8226593570113567,\n        \"num_unique_values\": 3320,\n        \"samples\": [\n          0.07778929854064816,\n          0.20275303317770116,\n          0.21313145113776794\n        ],\n        \"semantic_type\": \"\",\n        \"description\": \"\"\n      }\n    },\n    {\n      \"column\": \"StdDev\",\n      \"properties\": {\n        \"dtype\": \"number\",\n        \"std\": 0.009055741879133552,\n        \"min\": 0.0005418924395947194,\n        \"max\": 0.061915735153138925,\n        \"num_unique_values\": 3321,\n        \"samples\": [\n          0.006329707601829043,\n          0.0022567651815602347,\n          0.010973117159494677\n        ],\n        \"semantic_type\": \"\",\n        \"description\": \"\"\n      }\n    },\n    {\n      \"column\": \"Close_Lag1\",\n      \"properties\": {\n        \"dtype\": \"number\",\n        \"std\": 0.18104451735271454,\n        \"min\": 0.0,\n        \"max\": 0.7258817517103539,\n        \"num_unique_values\": 3188,\n        \"samples\": [\n          0.08573236229343213,\n          0.10768201620772742,\n          0.05471138596964779\n        ],\n        \"semantic_type\": \"\",\n        \"description\": \"\"\n      }\n    },\n    {\n      \"column\": \"Close_Lag5\",\n      \"properties\": {\n        \"dtype\": \"number\",\n        \"std\": 0.18016961950990978,\n        \"min\": 0.0,\n        \"max\": 0.7258817517103539,\n        \"num_unique_values\": 3188,\n        \"samples\": [\n          0.09260031423789011,\n          0.11201378821709825,\n          0.056139467250483834\n        ],\n        \"semantic_type\": \"\",\n        \"description\": \"\"\n      }\n    },\n    {\n      \"column\": \"Close_Lag180\",\n      \"properties\": {\n        \"dtype\": \"number\",\n        \"std\": 0.1405859868740185,\n        \"min\": 0.0,\n        \"max\": 0.7186627045977814,\n        \"num_unique_values\": 3197,\n        \"samples\": [\n          0.12308004854723441,\n          0.08497169678498744,\n          0.18193304381116418\n        ],\n        \"semantic_type\": \"\",\n        \"description\": \"\"\n      }\n    }\n  ]\n}"
            }
          },
          "metadata": {},
          "execution_count": 81
        }
      ]
    },
    {
      "cell_type": "code",
      "source": [
        "test_data['MA7'] = test_data['Close'].rolling(window=7).mean()\n",
        "test_data['MA30'] = test_data['Close'].rolling(window=30).mean()\n",
        "test_data['StdDev'] = test_data['Close'].rolling(window=30).std()\n",
        "\n",
        "test_data[['Close', 'MA7', 'MA30', 'StdDev']].plot(figsize=(12, 6))\n",
        "plt.show()"
      ],
      "metadata": {
        "colab": {
          "base_uri": "https://localhost:8080/",
          "height": 542
        },
        "id": "cRt05Sbkh-95",
        "outputId": "7ded5f3d-e9ed-452a-c70c-672ea40712b9"
      },
      "execution_count": null,
      "outputs": [
        {
          "output_type": "display_data",
          "data": {
            "text/plain": [
              "<Figure size 1200x600 with 1 Axes>"
            ],
            "image/png": "[encoded data removed]"
          },
          "metadata": {}
        }
      ]
    },
    {
      "cell_type": "code",
      "source": [
        "sns.boxplot(test_data['Close'])\n",
        "plt.show()"
      ],
      "metadata": {
        "colab": {
          "base_uri": "https://localhost:8080/",
          "height": 411
        },
        "id": "JtOb5Dn8nWXu",
        "outputId": "0087e569-b91e-4afe-fd9b-7279aa2a1b4a"
      },
      "execution_count": null,
      "outputs": [
        {
          "output_type": "display_data",
          "data": {
            "text/plain": [
              "<Figure size 640x480 with 1 Axes>"
            ],
            "image/png": "[encoded data removed]"
          },
          "metadata": {}
        }
      ]
    },
    {
      "cell_type": "code",
      "source": [
        "z_scores = stats.zscore(test_data['Close'])\n",
        "outliers = test_data['Close'][abs(z_scores) > 3]\n",
        "print(outliers)"
      ],
      "metadata": {
        "colab": {
          "base_uri": "https://localhost:8080/"
        },
        "id": "qyFk7hR1owMp",
        "outputId": "5c2ce5bc-29ff-412f-a98a-5a9914fe9a62"
      },
      "execution_count": null,
      "outputs": [
        {
          "output_type": "stream",
          "name": "stdout",
          "text": [
            "Series([], Name: Close, dtype: float64)\n"
          ]
        }
      ]
    },
    {
      "cell_type": "code",
      "source": [
        "Q1 = test_data['Close'].quantile(0.25)\n",
        "Q3 = test_data['Close'].quantile(0.75)\n",
        "IQR = Q3 - Q1\n",
        "outliers_test_data = test_data['Close'][((test_data['Close'] < (Q1 - 1.5 * IQR)) | (test_data['Close'] > (Q3 + 1.5 * IQR)))]\n",
        "print(outliers_test_data.count())"
      ],
      "metadata": {
        "colab": {
          "base_uri": "https://localhost:8080/"
        },
        "id": "ZdnckC9vpHpH",
        "outputId": "5ae16ef0-560c-440e-ee96-0f44b8aa1a9a"
      },
      "execution_count": null,
      "outputs": [
        {
          "output_type": "stream",
          "name": "stdout",
          "text": [
            "4\n"
          ]
        }
      ]
    },
    {
      "cell_type": "code",
      "source": [
        "filtered_test_data = test_data[~((test_data['Close'] < (Q1 - 1.5 * IQR)) | (test_data['Close'] > (Q3 + 1.5 * IQR)))]"
      ],
      "metadata": {
        "id": "tpxUlZ08plyE"
      },
      "execution_count": null,
      "outputs": []
    },
    {
      "cell_type": "code",
      "source": [
        "filtered_test_data.loc[:,'Close_Lag1'] = filtered_test_data['Close'].shift(1)\n",
        "filtered_test_data.loc[:,'Close_Lag5'] = filtered_test_data['Close'].shift(5)\n",
        "filtered_test_data.loc[:,'Close_Lag180'] = filtered_test_data['Close'].shift(180)\n"
      ],
      "metadata": {
        "id": "19b7g9Uy5a-Z"
      },
      "execution_count": null,
      "outputs": []
    },
    {
      "cell_type": "code",
      "source": [
        "filtered_test_data.head()"
      ],
      "metadata": {
        "colab": {
          "base_uri": "https://localhost:8080/",
          "height": 81
        },
        "id": "tnRDAn9_CS9Q",
        "outputId": "7d11b822-608b-48b2-839b-effa050db4e7"
      },
      "execution_count": null,
      "outputs": [
        {
          "output_type": "execute_result",
          "data": {
            "text/plain": [
              "Empty DataFrame\n",
              "Columns: [Open, High, Low, Close, Adj Close, Volume, VWAP, MA7, MA30, StdDev, Close_Lag1, Close_Lag5, Close_Lag180]\n",
              "Index: []"
            ],
            "text/html": [
              "\n",
              "  <div id=\"df-3c4e8437-2939-4df7-a6e8-74052e4fab78\" class=\"colab-df-container\">\n",
              "    <div>\n",
              "<style scoped>\n",
              "    .dataframe tbody tr th:only-of-type {\n",
              "        vertical-align: middle;\n",
              "    }\n",
              "\n",
              "    .dataframe tbody tr th {\n",
              "        vertical-align: top;\n",
              "    }\n",
              "\n",
              "    .dataframe thead th {\n",
              "        text-align: right;\n",
              "    }\n",
              "</style>\n",
              "<table border=\"1\" class=\"dataframe\">\n",
              "  <thead>\n",
              "    <tr style=\"text-align: right;\">\n",
              "      <th></th>\n",
              "      <th>Open</th>\n",
              "      <th>High</th>\n",
              "      <th>Low</th>\n",
              "      <th>Close</th>\n",
              "      <th>Adj Close</th>\n",
              "      <th>Volume</th>\n",
              "      <th>VWAP</th>\n",
              "      <th>MA7</th>\n",
              "      <th>MA30</th>\n",
              "      <th>StdDev</th>\n",
              "      <th>Close_Lag1</th>\n",
              "      <th>Close_Lag5</th>\n",
              "      <th>Close_Lag180</th>\n",
              "    </tr>\n",
              "    <tr>\n",
              "      <th>Date</th>\n",
              "      <th></th>\n",
              "      <th></th>\n",
              "      <th></th>\n",
              "      <th></th>\n",
              "      <th></th>\n",
              "      <th></th>\n",
              "      <th></th>\n",
              "      <th></th>\n",
              "      <th></th>\n",
              "      <th></th>\n",
              "      <th></th>\n",
              "      <th></th>\n",
              "      <th></th>\n",
              "    </tr>\n",
              "  </thead>\n",
              "  <tbody>\n",
              "  </tbody>\n",
              "</table>\n",
              "</div>\n",
              "    <div class=\"colab-df-buttons\">\n",
              "\n",
              "  <div class=\"colab-df-container\">\n",
              "    <button class=\"colab-df-convert\" onclick=\"convertToInteractive('df-3c4e8437-2939-4df7-a6e8-74052e4fab78')\"\n",
              "            title=\"Convert this dataframe to an interactive table.\"\n",
              "            style=\"display:none;\">\n",
              "\n",
              "  <svg xmlns=\"http://www.w3.org/2000/svg\" height=\"24px\" viewBox=\"0 -960 960 960\">\n",
              "    <path d=\"M120-120v-720h720v720H120Zm60-500h600v-160H180v160Zm220 220h160v-160H400v160Zm0 220h160v-160H400v160ZM180-400h160v-160H180v160Zm440 0h160v-160H620v160ZM180-180h160v-160H180v160Zm440 0h160v-160H620v160Z\"/>\n",
              "  </svg>\n",
              "    </button>\n",
              "\n",
              "  <style>\n",
              "    .colab-df-container {\n",
              "      display:flex;\n",
              "      gap: 12px;\n",
              "    }\n",
              "\n",
              "    .colab-df-convert {\n",
              "      background-color: #E8F0FE;\n",
              "      border: none;\n",
              "      border-radius: 50%;\n",
              "      cursor: pointer;\n",
              "      display: none;\n",
              "      fill: #1967D2;\n",
              "      height: 32px;\n",
              "      padding: 0 0 0 0;\n",
              "      width: 32px;\n",
              "    }\n",
              "\n",
              "    .colab-df-convert:hover {\n",
              "      background-color: #E2EBFA;\n",
              "      box-shadow: 0px 1px 2px rgba(60, 64, 67, 0.3), 0px 1px 3px 1px rgba(60, 64, 67, 0.15);\n",
              "      fill: #174EA6;\n",
              "    }\n",
              "\n",
              "    .colab-df-buttons div {\n",
              "      margin-bottom: 4px;\n",
              "    }\n",
              "\n",
              "    [theme=dark] .colab-df-convert {\n",
              "      background-color: #3B4455;\n",
              "      fill: #D2E3FC;\n",
              "    }\n",
              "\n",
              "    [theme=dark] .colab-df-convert:hover {\n",
              "      background-color: #434B5C;\n",
              "      box-shadow: 0px 1px 3px 1px rgba(0, 0, 0, 0.15);\n",
              "      filter: drop-shadow(0px 1px 2px rgba(0, 0, 0, 0.3));\n",
              "      fill: #FFFFFF;\n",
              "    }\n",
              "  </style>\n",
              "\n",
              "    <script>\n",
              "      const buttonEl =\n",
              "        document.querySelector('#df-3c4e8437-2939-4df7-a6e8-74052e4fab78 button.colab-df-convert');\n",
              "      buttonEl.style.display =\n",
              "        google.colab.kernel.accessAllowed ? 'block' : 'none';\n",
              "\n",
              "      async function convertToInteractive(key) {\n",
              "        const element = document.querySelector('#df-3c4e8437-2939-4df7-a6e8-74052e4fab78');\n",
              "        const dataTable =\n",
              "          await google.colab.kernel.invokeFunction('convertToInteractive',\n",
              "                                                    [key], {});\n",
              "        if (!dataTable) return;\n",
              "\n",
              "        const docLinkHtml = 'Like what you see? Visit the ' +\n",
              "          '<a target=\"_blank\" href=https://colab.research.google.com/notebooks/data_table.ipynb>data table notebook</a>'\n",
              "          + ' to learn more about interactive tables.';\n",
              "        element.innerHTML = '';\n",
              "        dataTable['output_type'] = 'display_data';\n",
              "        await google.colab.output.renderOutput(dataTable, element);\n",
              "        const docLink = document.createElement('div');\n",
              "        docLink.innerHTML = docLinkHtml;\n",
              "        element.appendChild(docLink);\n",
              "      }\n",
              "    </script>\n",
              "  </div>\n",
              "\n",
              "\n",
              "    </div>\n",
              "  </div>\n"
            ],
            "application/vnd.google.colaboratory.intrinsic+json": {
              "type": "dataframe",
              "variable_name": "filtered_test_data",
              "repr_error": "Out of range float values are not JSON compliant: nan"
            }
          },
          "metadata": {},
          "execution_count": 84
        }
      ]
    },
    {
      "cell_type": "code",
      "source": [
        "x_train=filtered_data.drop('Close',axis=1)\n",
        "y_train=filtered_data['Close']\n",
        "x_test=filtered_test_data.drop('Close',axis=1)\n",
        "y_test=filtered_test_data['Close']"
      ],
      "metadata": {
        "id": "CBNB8uT0pjvb"
      },
      "execution_count": null,
      "outputs": []
    },
    {
      "cell_type": "code",
      "source": [
        "from statsmodels.graphics.tsaplots import plot_acf,plot_pacf"
      ],
      "metadata": {
        "id": "lYnOeHGDvtzS"
      },
      "execution_count": null,
      "outputs": []
    },
    {
      "cell_type": "code",
      "source": [
        "plot_acf(filtered_data['Close'], lags=10)\n",
        "plt.xlabel('Lags')\n",
        "plt.ylabel('Autocorrelation')\n",
        "plt.title('Autocorrelation Function (ACF)')\n",
        "plt.show()"
      ],
      "metadata": {
        "colab": {
          "base_uri": "https://localhost:8080/",
          "height": 472
        },
        "id": "iyc1DDFrwH93",
        "outputId": "4382eb2f-093d-4d40-ca75-a6144ea14b37"
      },
      "execution_count": null,
      "outputs": [
        {
          "output_type": "display_data",
          "data": {
            "text/plain": [
              "<Figure size 640x480 with 1 Axes>"
            ],
            "image/png": "[encoded data removed]"
          },
          "metadata": {}
        }
      ]
    },
    {
      "cell_type": "code",
      "source": [
        "plot_pacf(filtered_data['Close'], lags=10)\n",
        "plt.xlabel('Lags')\n",
        "plt.ylabel('Partial Autocorrelation')\n",
        "plt.title('Partial Autocorrelation Function (PACF)')\n",
        "plt.show()"
      ],
      "metadata": {
        "colab": {
          "base_uri": "https://localhost:8080/",
          "height": 472
        },
        "id": "exPO8UqlxAnl",
        "outputId": "32ed8d7f-2aa5-4e1c-db10-11f7e673a31a"
      },
      "execution_count": null,
      "outputs": [
        {
          "output_type": "display_data",
          "data": {
            "text/plain": [
              "<Figure size 640x480 with 1 Axes>"
            ],
            "image/png": "[encoded data removed]"
          },
          "metadata": {}
        }
      ]
    },
    {
      "cell_type": "code",
      "source": [
        "from statsmodels.tsa.arima.model import ARIMA\n",
        "from sklearn.metrics import mean_squared_error,mean_absolute_error,r2_score,mean_absolute_percentage_error"
      ],
      "metadata": {
        "id": "-LVe_P6xu8pF"
      },
      "execution_count": null,
      "outputs": []
    },
    {
      "cell_type": "code",
      "source": [
        "p=2\n",
        "d=1\n",
        "q=0\n",
        "model = ARIMA(y_train,exog=x_train, order=(p, d, q))\n",
        "model_fit = model.fit()"
      ],
      "metadata": {
        "colab": {
          "base_uri": "https://localhost:8080/"
        },
        "id": "yELxaE6SvVtK",
        "outputId": "19c47406-fc29-4537-e288-7608a6a7374e"
      },
      "execution_count": null,
      "outputs": [
        {
          "output_type": "stream",
          "name": "stderr",
          "text": [
            "/usr/local/lib/python3.10/dist-packages/statsmodels/tsa/base/tsa_model.py:473: ValueWarning: A date index has been provided, but it has no associated frequency information and so will be ignored when e.g. forecasting.\n",
            "  self._init_dates(dates, freq)\n",
            "/usr/local/lib/python3.10/dist-packages/statsmodels/tsa/base/tsa_model.py:473: ValueWarning: A date index has been provided, but it has no associated frequency information and so will be ignored when e.g. forecasting.\n",
            "  self._init_dates(dates, freq)\n",
            "/usr/local/lib/python3.10/dist-packages/statsmodels/tsa/base/tsa_model.py:473: ValueWarning: A date index has been provided, but it has no associated frequency information and so will be ignored when e.g. forecasting.\n",
            "  self._init_dates(dates, freq)\n",
            "/usr/local/lib/python3.10/dist-packages/statsmodels/base/model.py:607: ConvergenceWarning: Maximum Likelihood optimization failed to converge. Check mle_retvals\n",
            "  warnings.warn(\"Maximum Likelihood optimization failed to \"\n"
          ]
        }
      ]
    },
    {
      "cell_type": "code",
      "source": [
        "predictions = model_fit.predict(start=len(y_train),end=len(y_train)+len(y_test)-1,exog=x_test)"
      ],
      "metadata": {
        "colab": {
          "base_uri": "https://localhost:8080/",
          "height": 304
        },
        "id": "eq8u32LX8Ile",
        "outputId": "c1d911ef-11c4-43a8-ddd4-081a2db884a1"
      },
      "execution_count": null,
      "outputs": [
        {
          "output_type": "error",
          "ename": "ValueError",
          "evalue": "Prediction must have `end` after `start`.",
          "traceback": [
            "\u001b[0;31m---------------------------------------------------------------------------\u001b[0m",
            "\u001b[0;31mValueError\u001b[0m                                Traceback (most recent call last)",
            "\u001b[0;32m<ipython-input-76-5a1e27f371b4>\u001b[0m in \u001b[0;36m<cell line: 1>\u001b[0;34m()\u001b[0m\n\u001b[0;32m----> 1\u001b[0;31m \u001b[0mpredictions\u001b[0m \u001b[0;34m=\u001b[0m \u001b[0mmodel_fit\u001b[0m\u001b[0;34m.\u001b[0m\u001b[0mpredict\u001b[0m\u001b[0;34m(\u001b[0m\u001b[0mstart\u001b[0m\u001b[0;34m=\u001b[0m\u001b[0mlen\u001b[0m\u001b[0;34m(\u001b[0m\u001b[0my_train\u001b[0m\u001b[0;34m)\u001b[0m\u001b[0;34m,\u001b[0m\u001b[0mend\u001b[0m\u001b[0;34m=\u001b[0m\u001b[0mlen\u001b[0m\u001b[0;34m(\u001b[0m\u001b[0my_train\u001b[0m\u001b[0;34m)\u001b[0m\u001b[0;34m+\u001b[0m\u001b[0mlen\u001b[0m\u001b[0;34m(\u001b[0m\u001b[0my_test\u001b[0m\u001b[0;34m)\u001b[0m\u001b[0;34m-\u001b[0m\u001b[0;36m1\u001b[0m\u001b[0;34m,\u001b[0m\u001b[0mexog\u001b[0m\u001b[0;34m=\u001b[0m\u001b[0mx_test\u001b[0m\u001b[0;34m)\u001b[0m\u001b[0;34m\u001b[0m\u001b[0;34m\u001b[0m\u001b[0m\n\u001b[0m",
            "\u001b[0;32m/usr/local/lib/python3.10/dist-packages/statsmodels/base/wrapper.py\u001b[0m in \u001b[0;36mwrapper\u001b[0;34m(self, *args, **kwargs)\u001b[0m\n\u001b[1;32m    111\u001b[0m             \u001b[0mobj\u001b[0m \u001b[0;34m=\u001b[0m \u001b[0mdata\u001b[0m\u001b[0;34m.\u001b[0m\u001b[0mwrap_output\u001b[0m\u001b[0;34m(\u001b[0m\u001b[0mfunc\u001b[0m\u001b[0;34m(\u001b[0m\u001b[0mresults\u001b[0m\u001b[0;34m,\u001b[0m \u001b[0;34m*\u001b[0m\u001b[0margs\u001b[0m\u001b[0;34m,\u001b[0m \u001b[0;34m**\u001b[0m\u001b[0mkwargs\u001b[0m\u001b[0;34m)\u001b[0m\u001b[0;34m,\u001b[0m \u001b[0mhow\u001b[0m\u001b[0;34m[\u001b[0m\u001b[0;36m0\u001b[0m\u001b[0;34m]\u001b[0m\u001b[0;34m,\u001b[0m \u001b[0mhow\u001b[0m\u001b[0;34m[\u001b[0m\u001b[0;36m1\u001b[0m\u001b[0;34m:\u001b[0m\u001b[0;34m]\u001b[0m\u001b[0;34m)\u001b[0m\u001b[0;34m\u001b[0m\u001b[0;34m\u001b[0m\u001b[0m\n\u001b[1;32m    112\u001b[0m         \u001b[0;32melif\u001b[0m \u001b[0mhow\u001b[0m\u001b[0;34m:\u001b[0m\u001b[0;34m\u001b[0m\u001b[0;34m\u001b[0m\u001b[0m\n\u001b[0;32m--> 113\u001b[0;31m             \u001b[0mobj\u001b[0m \u001b[0;34m=\u001b[0m \u001b[0mdata\u001b[0m\u001b[0;34m.\u001b[0m\u001b[0mwrap_output\u001b[0m\u001b[0;34m(\u001b[0m\u001b[0mfunc\u001b[0m\u001b[0;34m(\u001b[0m\u001b[0mresults\u001b[0m\u001b[0;34m,\u001b[0m \u001b[0;34m*\u001b[0m\u001b[0margs\u001b[0m\u001b[0;34m,\u001b[0m \u001b[0;34m**\u001b[0m\u001b[0mkwargs\u001b[0m\u001b[0;34m)\u001b[0m\u001b[0;34m,\u001b[0m \u001b[0mhow\u001b[0m\u001b[0;34m)\u001b[0m\u001b[0;34m\u001b[0m\u001b[0;34m\u001b[0m\u001b[0m\n\u001b[0m\u001b[1;32m    114\u001b[0m         \u001b[0;32mreturn\u001b[0m \u001b[0mobj\u001b[0m\u001b[0;34m\u001b[0m\u001b[0;34m\u001b[0m\u001b[0m\n\u001b[1;32m    115\u001b[0m \u001b[0;34m\u001b[0m\u001b[0m\n",
            "\u001b[0;32m/usr/local/lib/python3.10/dist-packages/statsmodels/tsa/statespace/mlemodel.py\u001b[0m in \u001b[0;36mpredict\u001b[0;34m(self, start, end, dynamic, information_set, signal_only, **kwargs)\u001b[0m\n\u001b[1;32m   3484\u001b[0m         \"\"\"\n\u001b[1;32m   3485\u001b[0m         \u001b[0;31m# Perform the prediction\u001b[0m\u001b[0;34m\u001b[0m\u001b[0;34m\u001b[0m\u001b[0m\n\u001b[0;32m-> 3486\u001b[0;31m         prediction_results = self.get_prediction(\n\u001b[0m\u001b[1;32m   3487\u001b[0m             \u001b[0mstart\u001b[0m\u001b[0;34m,\u001b[0m \u001b[0mend\u001b[0m\u001b[0;34m,\u001b[0m \u001b[0mdynamic\u001b[0m\u001b[0;34m,\u001b[0m \u001b[0minformation_set\u001b[0m\u001b[0;34m=\u001b[0m\u001b[0minformation_set\u001b[0m\u001b[0;34m,\u001b[0m\u001b[0;34m\u001b[0m\u001b[0;34m\u001b[0m\u001b[0m\n\u001b[1;32m   3488\u001b[0m             signal_only=signal_only, **kwargs)\n",
            "\u001b[0;32m/usr/local/lib/python3.10/dist-packages/statsmodels/tsa/statespace/mlemodel.py\u001b[0m in \u001b[0;36mget_prediction\u001b[0;34m(self, start, end, dynamic, information_set, signal_only, index, exog, extend_model, extend_kwargs, **kwargs)\u001b[0m\n\u001b[1;32m   3337\u001b[0m         \u001b[0;31m# Handle start, end, dynamic\u001b[0m\u001b[0;34m\u001b[0m\u001b[0;34m\u001b[0m\u001b[0m\n\u001b[1;32m   3338\u001b[0m         start, end, out_of_sample, prediction_index = (\n\u001b[0;32m-> 3339\u001b[0;31m             self.model._get_prediction_index(start, end, index))\n\u001b[0m\u001b[1;32m   3340\u001b[0m \u001b[0;34m\u001b[0m\u001b[0m\n\u001b[1;32m   3341\u001b[0m         \u001b[0;31m# Handle `dynamic`\u001b[0m\u001b[0;34m\u001b[0m\u001b[0;34m\u001b[0m\u001b[0m\n",
            "\u001b[0;32m/usr/local/lib/python3.10/dist-packages/statsmodels/tsa/base/tsa_model.py\u001b[0m in \u001b[0;36m_get_prediction_index\u001b[0;34m(self, start, end, index, silent)\u001b[0m\n\u001b[1;32m    834\u001b[0m         \"\"\"\n\u001b[1;32m    835\u001b[0m         \u001b[0mnobs\u001b[0m \u001b[0;34m=\u001b[0m \u001b[0mlen\u001b[0m\u001b[0;34m(\u001b[0m\u001b[0mself\u001b[0m\u001b[0;34m.\u001b[0m\u001b[0mendog\u001b[0m\u001b[0;34m)\u001b[0m\u001b[0;34m\u001b[0m\u001b[0;34m\u001b[0m\u001b[0m\n\u001b[0;32m--> 836\u001b[0;31m         return get_prediction_index(\n\u001b[0m\u001b[1;32m    837\u001b[0m             \u001b[0mstart\u001b[0m\u001b[0;34m,\u001b[0m\u001b[0;34m\u001b[0m\u001b[0;34m\u001b[0m\u001b[0m\n\u001b[1;32m    838\u001b[0m             \u001b[0mend\u001b[0m\u001b[0;34m,\u001b[0m\u001b[0;34m\u001b[0m\u001b[0;34m\u001b[0m\u001b[0m\n",
            "\u001b[0;32m/usr/local/lib/python3.10/dist-packages/statsmodels/tsa/base/tsa_model.py\u001b[0m in \u001b[0;36mget_prediction_index\u001b[0;34m(start, end, nobs, base_index, index, silent, index_none, index_generated, data)\u001b[0m\n\u001b[1;32m    387\u001b[0m     \u001b[0;31m# Validate prediction options\u001b[0m\u001b[0;34m\u001b[0m\u001b[0;34m\u001b[0m\u001b[0m\n\u001b[1;32m    388\u001b[0m     \u001b[0;32mif\u001b[0m \u001b[0mend\u001b[0m \u001b[0;34m<\u001b[0m \u001b[0mstart\u001b[0m\u001b[0;34m:\u001b[0m\u001b[0;34m\u001b[0m\u001b[0;34m\u001b[0m\u001b[0m\n\u001b[0;32m--> 389\u001b[0;31m         \u001b[0;32mraise\u001b[0m \u001b[0mValueError\u001b[0m\u001b[0;34m(\u001b[0m\u001b[0;34m\"Prediction must have `end` after `start`.\"\u001b[0m\u001b[0;34m)\u001b[0m\u001b[0;34m\u001b[0m\u001b[0;34m\u001b[0m\u001b[0m\n\u001b[0m\u001b[1;32m    390\u001b[0m \u001b[0;34m\u001b[0m\u001b[0m\n\u001b[1;32m    391\u001b[0m     \u001b[0;31m# Handle custom prediction index\u001b[0m\u001b[0;34m\u001b[0m\u001b[0;34m\u001b[0m\u001b[0m\n",
            "\u001b[0;31mValueError\u001b[0m: Prediction must have `end` after `start`."
          ]
        }
      ]
    },
    {
      "cell_type": "code",
      "source": [
        "y_train.shape"
      ],
      "metadata": {
        "colab": {
          "base_uri": "https://localhost:8080/"
        },
        "id": "bUfLAX6N-8y5",
        "outputId": "2709b629-cd75-4856-9bdf-ba826eac5b52"
      },
      "execution_count": null,
      "outputs": [
        {
          "output_type": "execute_result",
          "data": {
            "text/plain": [
              "(3322,)"
            ]
          },
          "metadata": {},
          "execution_count": 63
        }
      ]
    },
    {
      "cell_type": "code",
      "source": [
        "y_test.shape"
      ],
      "metadata": {
        "colab": {
          "base_uri": "https://localhost:8080/"
        },
        "id": "FeZ5oUog_CYM",
        "outputId": "c06cfec1-49b3-423e-aecc-87e7c35445ca"
      },
      "execution_count": null,
      "outputs": [
        {
          "output_type": "execute_result",
          "data": {
            "text/plain": [
              "(0,)"
            ]
          },
          "metadata": {},
          "execution_count": 64
        }
      ]
    },
    {
      "cell_type": "code",
      "source": [
        "x_train.head()"
      ],
      "metadata": {
        "colab": {
          "base_uri": "https://localhost:8080/",
          "height": 238
        },
        "id": "sqPmEf6W_Lbe",
        "outputId": "e5d2a9e2-bfa9-4d05-cbfc-3eb5f018b2fd"
      },
      "execution_count": null,
      "outputs": [
        {
          "output_type": "execute_result",
          "data": {
            "text/plain": [
              "                Open      High       Low  Adj Close    Volume      VWAP  \\\n",
              "Date                                                                      \n",
              "2008-09-18  0.009365  0.009702  0.007812   0.008644  0.493354  0.048829   \n",
              "2008-09-19  0.011566  0.011294  0.010686   0.009699  0.420084  0.048612   \n",
              "2008-09-22  0.011079  0.010577  0.009647   0.008174  0.248637  0.048402   \n",
              "2008-09-23  0.009599  0.009769  0.008912   0.007523  0.375141  0.048038   \n",
              "2008-09-24  0.008761  0.008888  0.008634   0.007812  0.305462  0.047764   \n",
              "\n",
              "                 MA7      MA30    StdDev  Close_Lag1  Close_Lag5  Close_Lag180  \n",
              "Date                                                                            \n",
              "2008-09-18  0.011702  0.015672  0.002631    0.009075    0.013613      0.021328  \n",
              "2008-09-19  0.011422  0.015534  0.002741    0.010220    0.012935      0.021344  \n",
              "2008-09-22  0.010858  0.015299  0.002932    0.011467    0.011366      0.018624  \n",
              "2008-09-23  0.010281  0.015014  0.003126    0.009664    0.011278      0.018183  \n",
              "2008-09-24  0.009976  0.014722  0.003244    0.008894    0.009075      0.017014  "
            ],
            "text/html": [
              "\n",
              "  <div id=\"df-0778bbb3-6dbd-4856-8b55-9c2a61472744\" class=\"colab-df-container\">\n",
              "    <div>\n",
              "<style scoped>\n",
              "    .dataframe tbody tr th:only-of-type {\n",
              "        vertical-align: middle;\n",
              "    }\n",
              "\n",
              "    .dataframe tbody tr th {\n",
              "        vertical-align: top;\n",
              "    }\n",
              "\n",
              "    .dataframe thead th {\n",
              "        text-align: right;\n",
              "    }\n",
              "</style>\n",
              "<table border=\"1\" class=\"dataframe\">\n",
              "  <thead>\n",
              "    <tr style=\"text-align: right;\">\n",
              "      <th></th>\n",
              "      <th>Open</th>\n",
              "      <th>High</th>\n",
              "      <th>Low</th>\n",
              "      <th>Adj Close</th>\n",
              "      <th>Volume</th>\n",
              "      <th>VWAP</th>\n",
              "      <th>MA7</th>\n",
              "      <th>MA30</th>\n",
              "      <th>StdDev</th>\n",
              "      <th>Close_Lag1</th>\n",
              "      <th>Close_Lag5</th>\n",
              "      <th>Close_Lag180</th>\n",
              "    </tr>\n",
              "    <tr>\n",
              "      <th>Date</th>\n",
              "      <th></th>\n",
              "      <th></th>\n",
              "      <th></th>\n",
              "      <th></th>\n",
              "      <th></th>\n",
              "      <th></th>\n",
              "      <th></th>\n",
              "      <th></th>\n",
              "      <th></th>\n",
              "      <th></th>\n",
              "      <th></th>\n",
              "      <th></th>\n",
              "    </tr>\n",
              "  </thead>\n",
              "  <tbody>\n",
              "    <tr>\n",
              "      <th>2008-09-18</th>\n",
              "      <td>0.009365</td>\n",
              "      <td>0.009702</td>\n",
              "      <td>0.007812</td>\n",
              "      <td>0.008644</td>\n",
              "      <td>0.493354</td>\n",
              "      <td>0.048829</td>\n",
              "      <td>0.011702</td>\n",
              "      <td>0.015672</td>\n",
              "      <td>0.002631</td>\n",
              "      <td>0.009075</td>\n",
              "      <td>0.013613</td>\n",
              "      <td>0.021328</td>\n",
              "    </tr>\n",
              "    <tr>\n",
              "      <th>2008-09-19</th>\n",
              "      <td>0.011566</td>\n",
              "      <td>0.011294</td>\n",
              "      <td>0.010686</td>\n",
              "      <td>0.009699</td>\n",
              "      <td>0.420084</td>\n",
              "      <td>0.048612</td>\n",
              "      <td>0.011422</td>\n",
              "      <td>0.015534</td>\n",
              "      <td>0.002741</td>\n",
              "      <td>0.010220</td>\n",
              "      <td>0.012935</td>\n",
              "      <td>0.021344</td>\n",
              "    </tr>\n",
              "    <tr>\n",
              "      <th>2008-09-22</th>\n",
              "      <td>0.011079</td>\n",
              "      <td>0.010577</td>\n",
              "      <td>0.009647</td>\n",
              "      <td>0.008174</td>\n",
              "      <td>0.248637</td>\n",
              "      <td>0.048402</td>\n",
              "      <td>0.010858</td>\n",
              "      <td>0.015299</td>\n",
              "      <td>0.002932</td>\n",
              "      <td>0.011467</td>\n",
              "      <td>0.011366</td>\n",
              "      <td>0.018624</td>\n",
              "    </tr>\n",
              "    <tr>\n",
              "      <th>2008-09-23</th>\n",
              "      <td>0.009599</td>\n",
              "      <td>0.009769</td>\n",
              "      <td>0.008912</td>\n",
              "      <td>0.007523</td>\n",
              "      <td>0.375141</td>\n",
              "      <td>0.048038</td>\n",
              "      <td>0.010281</td>\n",
              "      <td>0.015014</td>\n",
              "      <td>0.003126</td>\n",
              "      <td>0.009664</td>\n",
              "      <td>0.011278</td>\n",
              "      <td>0.018183</td>\n",
              "    </tr>\n",
              "    <tr>\n",
              "      <th>2008-09-24</th>\n",
              "      <td>0.008761</td>\n",
              "      <td>0.008888</td>\n",
              "      <td>0.008634</td>\n",
              "      <td>0.007812</td>\n",
              "      <td>0.305462</td>\n",
              "      <td>0.047764</td>\n",
              "      <td>0.009976</td>\n",
              "      <td>0.014722</td>\n",
              "      <td>0.003244</td>\n",
              "      <td>0.008894</td>\n",
              "      <td>0.009075</td>\n",
              "      <td>0.017014</td>\n",
              "    </tr>\n",
              "  </tbody>\n",
              "</table>\n",
              "</div>\n",
              "    <div class=\"colab-df-buttons\">\n",
              "\n",
              "  <div class=\"colab-df-container\">\n",
              "    <button class=\"colab-df-convert\" onclick=\"convertToInteractive('df-0778bbb3-6dbd-4856-8b55-9c2a61472744')\"\n",
              "            title=\"Convert this dataframe to an interactive table.\"\n",
              "            style=\"display:none;\">\n",
              "\n",
              "  <svg xmlns=\"http://www.w3.org/2000/svg\" height=\"24px\" viewBox=\"0 -960 960 960\">\n",
              "    <path d=\"M120-120v-720h720v720H120Zm60-500h600v-160H180v160Zm220 220h160v-160H400v160Zm0 220h160v-160H400v160ZM180-400h160v-160H180v160Zm440 0h160v-160H620v160ZM180-180h160v-160H180v160Zm440 0h160v-160H620v160Z\"/>\n",
              "  </svg>\n",
              "    </button>\n",
              "\n",
              "  <style>\n",
              "    .colab-df-container {\n",
              "      display:flex;\n",
              "      gap: 12px;\n",
              "    }\n",
              "\n",
              "    .colab-df-convert {\n",
              "      background-color: #E8F0FE;\n",
              "      border: none;\n",
              "      border-radius: 50%;\n",
              "      cursor: pointer;\n",
              "      display: none;\n",
              "      fill: #1967D2;\n",
              "      height: 32px;\n",
              "      padding: 0 0 0 0;\n",
              "      width: 32px;\n",
              "    }\n",
              "\n",
              "    .colab-df-convert:hover {\n",
              "      background-color: #E2EBFA;\n",
              "      box-shadow: 0px 1px 2px rgba(60, 64, 67, 0.3), 0px 1px 3px 1px rgba(60, 64, 67, 0.15);\n",
              "      fill: #174EA6;\n",
              "    }\n",
              "\n",
              "    .colab-df-buttons div {\n",
              "      margin-bottom: 4px;\n",
              "    }\n",
              "\n",
              "    [theme=dark] .colab-df-convert {\n",
              "      background-color: #3B4455;\n",
              "      fill: #D2E3FC;\n",
              "    }\n",
              "\n",
              "    [theme=dark] .colab-df-convert:hover {\n",
              "      background-color: #434B5C;\n",
              "      box-shadow: 0px 1px 3px 1px rgba(0, 0, 0, 0.15);\n",
              "      filter: drop-shadow(0px 1px 2px rgba(0, 0, 0, 0.3));\n",
              "      fill: #FFFFFF;\n",
              "    }\n",
              "  </style>\n",
              "\n",
              "    <script>\n",
              "      const buttonEl =\n",
              "        document.querySelector('#df-0778bbb3-6dbd-4856-8b55-9c2a61472744 button.colab-df-convert');\n",
              "      buttonEl.style.display =\n",
              "        google.colab.kernel.accessAllowed ? 'block' : 'none';\n",
              "\n",
              "      async function convertToInteractive(key) {\n",
              "        const element = document.querySelector('#df-0778bbb3-6dbd-4856-8b55-9c2a61472744');\n",
              "        const dataTable =\n",
              "          await google.colab.kernel.invokeFunction('convertToInteractive',\n",
              "                                                    [key], {});\n",
              "        if (!dataTable) return;\n",
              "\n",
              "        const docLinkHtml = 'Like what you see? Visit the ' +\n",
              "          '<a target=\"_blank\" href=https://colab.research.google.com/notebooks/data_table.ipynb>data table notebook</a>'\n",
              "          + ' to learn more about interactive tables.';\n",
              "        element.innerHTML = '';\n",
              "        dataTable['output_type'] = 'display_data';\n",
              "        await google.colab.output.renderOutput(dataTable, element);\n",
              "        const docLink = document.createElement('div');\n",
              "        docLink.innerHTML = docLinkHtml;\n",
              "        element.appendChild(docLink);\n",
              "      }\n",
              "    </script>\n",
              "  </div>\n",
              "\n",
              "\n",
              "<div id=\"df-1ff593a7-b301-4cb3-aeb7-55f04ba7fb1b\">\n",
              "  <button class=\"colab-df-quickchart\" onclick=\"quickchart('df-1ff593a7-b301-4cb3-aeb7-55f04ba7fb1b')\"\n",
              "            title=\"Suggest charts\"\n",
              "            style=\"display:none;\">\n",
              "\n",
              "<svg xmlns=\"http://www.w3.org/2000/svg\" height=\"24px\"viewBox=\"0 0 24 24\"\n",
              "     width=\"24px\">\n",
              "    <g>\n",
              "        <path d=\"M19 3H5c-1.1 0-2 .9-2 2v14c0 1.1.9 2 2 2h14c1.1 0 2-.9 2-2V5c0-1.1-.9-2-2-2zM9 17H7v-7h2v7zm4 0h-2V7h2v10zm4 0h-2v-4h2v4z\"/>\n",
              "    </g>\n",
              "</svg>\n",
              "  </button>\n",
              "\n",
              "<style>\n",
              "  .colab-df-quickchart {\n",
              "      --bg-color: #E8F0FE;\n",
              "      --fill-color: #1967D2;\n",
              "      --hover-bg-color: #E2EBFA;\n",
              "      --hover-fill-color: #174EA6;\n",
              "      --disabled-fill-color: #AAA;\n",
              "      --disabled-bg-color: #DDD;\n",
              "  }\n",
              "\n",
              "  [theme=dark] .colab-df-quickchart {\n",
              "      --bg-color: #3B4455;\n",
              "      --fill-color: #D2E3FC;\n",
              "      --hover-bg-color: #434B5C;\n",
              "      --hover-fill-color: #FFFFFF;\n",
              "      --disabled-bg-color: #3B4455;\n",
              "      --disabled-fill-color: #666;\n",
              "  }\n",
              "\n",
              "  .colab-df-quickchart {\n",
              "    background-color: var(--bg-color);\n",
              "    border: none;\n",
              "    border-radius: 50%;\n",
              "    cursor: pointer;\n",
              "    display: none;\n",
              "    fill: var(--fill-color);\n",
              "    height: 32px;\n",
              "    padding: 0;\n",
              "    width: 32px;\n",
              "  }\n",
              "\n",
              "  .colab-df-quickchart:hover {\n",
              "    background-color: var(--hover-bg-color);\n",
              "    box-shadow: 0 1px 2px rgba(60, 64, 67, 0.3), 0 1px 3px 1px rgba(60, 64, 67, 0.15);\n",
              "    fill: var(--button-hover-fill-color);\n",
              "  }\n",
              "\n",
              "  .colab-df-quickchart-complete:disabled,\n",
              "  .colab-df-quickchart-complete:disabled:hover {\n",
              "    background-color: var(--disabled-bg-color);\n",
              "    fill: var(--disabled-fill-color);\n",
              "    box-shadow: none;\n",
              "  }\n",
              "\n",
              "  .colab-df-spinner {\n",
              "    border: 2px solid var(--fill-color);\n",
              "    border-color: transparent;\n",
              "    border-bottom-color: var(--fill-color);\n",
              "    animation:\n",
              "      spin 1s steps(1) infinite;\n",
              "  }\n",
              "\n",
              "  @keyframes spin {\n",
              "    0% {\n",
              "      border-color: transparent;\n",
              "      border-bottom-color: var(--fill-color);\n",
              "      border-left-color: var(--fill-color);\n",
              "    }\n",
              "    20% {\n",
              "      border-color: transparent;\n",
              "      border-left-color: var(--fill-color);\n",
              "      border-top-color: var(--fill-color);\n",
              "    }\n",
              "    30% {\n",
              "      border-color: transparent;\n",
              "      border-left-color: var(--fill-color);\n",
              "      border-top-color: var(--fill-color);\n",
              "      border-right-color: var(--fill-color);\n",
              "    }\n",
              "    40% {\n",
              "      border-color: transparent;\n",
              "      border-right-color: var(--fill-color);\n",
              "      border-top-color: var(--fill-color);\n",
              "    }\n",
              "    60% {\n",
              "      border-color: transparent;\n",
              "      border-right-color: var(--fill-color);\n",
              "    }\n",
              "    80% {\n",
              "      border-color: transparent;\n",
              "      border-right-color: var(--fill-color);\n",
              "      border-bottom-color: var(--fill-color);\n",
              "    }\n",
              "    90% {\n",
              "      border-color: transparent;\n",
              "      border-bottom-color: var(--fill-color);\n",
              "    }\n",
              "  }\n",
              "</style>\n",
              "\n",
              "  <script>\n",
              "    async function quickchart(key) {\n",
              "      const quickchartButtonEl =\n",
              "        document.querySelector('#' + key + ' button');\n",
              "      quickchartButtonEl.disabled = true;  // To prevent multiple clicks.\n",
              "      quickchartButtonEl.classList.add('colab-df-spinner');\n",
              "      try {\n",
              "        const charts = await google.colab.kernel.invokeFunction(\n",
              "            'suggestCharts', [key], {});\n",
              "      } catch (error) {\n",
              "        console.error('Error during call to suggestCharts:', error);\n",
              "      }\n",
              "      quickchartButtonEl.classList.remove('colab-df-spinner');\n",
              "      quickchartButtonEl.classList.add('colab-df-quickchart-complete');\n",
              "    }\n",
              "    (() => {\n",
              "      let quickchartButtonEl =\n",
              "        document.querySelector('#df-1ff593a7-b301-4cb3-aeb7-55f04ba7fb1b button');\n",
              "      quickchartButtonEl.style.display =\n",
              "        google.colab.kernel.accessAllowed ? 'block' : 'none';\n",
              "    })();\n",
              "  </script>\n",
              "</div>\n",
              "\n",
              "    </div>\n",
              "  </div>\n"
            ],
            "application/vnd.google.colaboratory.intrinsic+json": {
              "type": "dataframe",
              "variable_name": "x_train",
              "summary": "{\n  \"name\": \"x_train\",\n  \"rows\": 3322,\n  \"fields\": [\n    {\n      \"column\": \"Date\",\n      \"properties\": {\n        \"dtype\": \"date\",\n        \"min\": \"2008-09-18 00:00:00\",\n        \"max\": \"2023-01-31 00:00:00\",\n        \"num_unique_values\": 3322,\n        \"samples\": [\n          \"2012-11-29 00:00:00\",\n          \"2011-12-07 00:00:00\",\n          \"2019-04-11 00:00:00\"\n        ],\n        \"semantic_type\": \"\",\n        \"description\": \"\"\n      }\n    },\n    {\n      \"column\": \"Open\",\n      \"properties\": {\n        \"dtype\": \"number\",\n        \"std\": 0.18146069158018635,\n        \"min\": 0.0,\n        \"max\": 0.739016346109192,\n        \"num_unique_values\": 3184,\n        \"samples\": [\n          0.08687012129291222,\n          0.10966904950781949,\n          0.05515107657503246\n        ],\n        \"semantic_type\": \"\",\n        \"description\": \"\"\n      }\n    },\n    {\n      \"column\": \"High\",\n      \"properties\": {\n        \"dtype\": \"number\",\n        \"std\": 0.1823109104464999,\n        \"min\": 0.0,\n        \"max\": 0.7373042653124072,\n        \"num_unique_values\": 3160,\n        \"samples\": [\n          0.1870133926912467,\n          0.22912248536054886,\n          0.0776125112116922\n        ],\n        \"semantic_type\": \"\",\n        \"description\": \"\"\n      }\n    },\n    {\n      \"column\": \"Low\",\n      \"properties\": {\n        \"dtype\": \"number\",\n        \"std\": 0.1798941831929152,\n        \"min\": 0.0,\n        \"max\": 0.7270955168659429,\n        \"num_unique_values\": 3178,\n        \"samples\": [\n          0.08908014481768085,\n          0.12465887309744997,\n          0.053722094157837956\n        ],\n        \"semantic_type\": \"\",\n        \"description\": \"\"\n      }\n    },\n    {\n      \"column\": \"Adj Close\",\n      \"properties\": {\n        \"dtype\": \"number\",\n        \"std\": 0.18090352849400615,\n        \"min\": 0.0,\n        \"max\": 0.7219657563327483,\n        \"num_unique_values\": 3274,\n        \"samples\": [\n          0.02690686034160438,\n          0.5992520696352611,\n          0.2019647523354426\n        ],\n        \"semantic_type\": \"\",\n        \"description\": \"\"\n      }\n    },\n    {\n      \"column\": \"Volume\",\n      \"properties\": {\n        \"dtype\": \"number\",\n        \"std\": 0.08676230645463555,\n        \"min\": 0.006390027738185427,\n        \"max\": 0.7757748442759763,\n        \"num_unique_values\": 3312,\n        \"samples\": [\n          0.33583174976372243,\n          0.0863566725201933,\n          0.06978202204990605\n        ],\n        \"semantic_type\": \"\",\n        \"description\": \"\"\n      }\n    },\n    {\n      \"column\": \"VWAP\",\n      \"properties\": {\n        \"dtype\": \"number\",\n        \"std\": 0.2154189822593876,\n        \"min\": 0.0,\n        \"max\": 0.9167362988129275,\n        \"num_unique_values\": 3322,\n        \"samples\": [\n          0.23893917656080998,\n          0.133862876459716,\n          0.5006527292326775\n        ],\n        \"semantic_type\": \"\",\n        \"description\": \"\"\n      }\n    },\n    {\n      \"column\": \"MA7\",\n      \"properties\": {\n        \"dtype\": \"number\",\n        \"std\": 0.1812766012699447,\n        \"min\": 0.001064203562282108,\n        \"max\": 0.7724799183629342,\n        \"num_unique_values\": 3316,\n        \"samples\": [\n          0.16793017919351616,\n          0.10850667852050033,\n          0.01649541330075439\n        ],\n        \"semantic_type\": \"\",\n        \"description\": \"\"\n      }\n    },\n    {\n      \"column\": \"MA30\",\n      \"properties\": {\n        \"dtype\": \"number\",\n        \"std\": 0.18124543664940906,\n        \"min\": 0.0018243235282193696,\n        \"max\": 0.8226593570113567,\n        \"num_unique_values\": 3320,\n        \"samples\": [\n          0.07778929854064816,\n          0.20275303317770116,\n          0.21313145113776794\n        ],\n        \"semantic_type\": \"\",\n        \"description\": \"\"\n      }\n    },\n    {\n      \"column\": \"StdDev\",\n      \"properties\": {\n        \"dtype\": \"number\",\n        \"std\": 0.009055741879133552,\n        \"min\": 0.0005418924395947194,\n        \"max\": 0.061915735153138925,\n        \"num_unique_values\": 3321,\n        \"samples\": [\n          0.006329707601829043,\n          0.0022567651815602347,\n          0.010973117159494677\n        ],\n        \"semantic_type\": \"\",\n        \"description\": \"\"\n      }\n    },\n    {\n      \"column\": \"Close_Lag1\",\n      \"properties\": {\n        \"dtype\": \"number\",\n        \"std\": 0.18104451735271454,\n        \"min\": 0.0,\n        \"max\": 0.7258817517103539,\n        \"num_unique_values\": 3188,\n        \"samples\": [\n          0.08573236229343213,\n          0.10768201620772742,\n          0.05471138596964779\n        ],\n        \"semantic_type\": \"\",\n        \"description\": \"\"\n      }\n    },\n    {\n      \"column\": \"Close_Lag5\",\n      \"properties\": {\n        \"dtype\": \"number\",\n        \"std\": 0.18016961950990978,\n        \"min\": 0.0,\n        \"max\": 0.7258817517103539,\n        \"num_unique_values\": 3188,\n        \"samples\": [\n          0.09260031423789011,\n          0.11201378821709825,\n          0.056139467250483834\n        ],\n        \"semantic_type\": \"\",\n        \"description\": \"\"\n      }\n    },\n    {\n      \"column\": \"Close_Lag180\",\n      \"properties\": {\n        \"dtype\": \"number\",\n        \"std\": 0.1405859868740185,\n        \"min\": 0.0,\n        \"max\": 0.7186627045977814,\n        \"num_unique_values\": 3197,\n        \"samples\": [\n          0.12308004854723441,\n          0.08497169678498744,\n          0.18193304381116418\n        ],\n        \"semantic_type\": \"\",\n        \"description\": \"\"\n      }\n    }\n  ]\n}"
            }
          },
          "metadata": {},
          "execution_count": 77
        }
      ]
    },
    {
      "cell_type": "code",
      "source": [
        "y_train.head()"
      ],
      "metadata": {
        "colab": {
          "base_uri": "https://localhost:8080/",
          "height": 272
        },
        "id": "hjRKfN6v_R58",
        "outputId": "8fb0d582-987e-4ea0-e4b0-14b5ec451690"
      },
      "execution_count": null,
      "outputs": [
        {
          "output_type": "execute_result",
          "data": {
            "text/plain": [
              "Date\n",
              "2008-09-18    0.010220\n",
              "2008-09-19    0.011467\n",
              "2008-09-22    0.009664\n",
              "2008-09-23    0.008894\n",
              "2008-09-24    0.009236\n",
              "Name: Close, dtype: float64"
            ],
            "text/html": [
              "<div>\n",
              "<style scoped>\n",
              "    .dataframe tbody tr th:only-of-type {\n",
              "        vertical-align: middle;\n",
              "    }\n",
              "\n",
              "    .dataframe tbody tr th {\n",
              "        vertical-align: top;\n",
              "    }\n",
              "\n",
              "    .dataframe thead th {\n",
              "        text-align: right;\n",
              "    }\n",
              "</style>\n",
              "<table border=\"1\" class=\"dataframe\">\n",
              "  <thead>\n",
              "    <tr style=\"text-align: right;\">\n",
              "      <th></th>\n",
              "      <th>Close</th>\n",
              "    </tr>\n",
              "    <tr>\n",
              "      <th>Date</th>\n",
              "      <th></th>\n",
              "    </tr>\n",
              "  </thead>\n",
              "  <tbody>\n",
              "    <tr>\n",
              "      <th>2008-09-18</th>\n",
              "      <td>0.010220</td>\n",
              "    </tr>\n",
              "    <tr>\n",
              "      <th>2008-09-19</th>\n",
              "      <td>0.011467</td>\n",
              "    </tr>\n",
              "    <tr>\n",
              "      <th>2008-09-22</th>\n",
              "      <td>0.009664</td>\n",
              "    </tr>\n",
              "    <tr>\n",
              "      <th>2008-09-23</th>\n",
              "      <td>0.008894</td>\n",
              "    </tr>\n",
              "    <tr>\n",
              "      <th>2008-09-24</th>\n",
              "      <td>0.009236</td>\n",
              "    </tr>\n",
              "  </tbody>\n",
              "</table>\n",
              "</div><br><label><b>dtype:</b> float64</label>"
            ]
          },
          "metadata": {},
          "execution_count": 78
        }
      ]
    },
    {
      "cell_type": "code",
      "source": [
        "x_test.head()"
      ],
      "metadata": {
        "colab": {
          "base_uri": "https://localhost:8080/",
          "height": 139
        },
        "id": "QQthy4NG_VYj",
        "outputId": "ee4a7e60-bb37-444d-c710-377b91efa1e8"
      },
      "execution_count": null,
      "outputs": [
        {
          "output_type": "execute_result",
          "data": {
            "text/plain": [
              "Empty DataFrame\n",
              "Columns: [Open, High, Low, Adj Close, Volume, VWAP, MA7, MA30, StdDev, Close_Lag1, Close_Lag5, Close_Lag180]\n",
              "Index: []"
            ],
            "text/html": [
              "\n",
              "  <div id=\"df-3ac82acf-5f02-413a-9cb9-3aa7d8285432\" class=\"colab-df-container\">\n",
              "    <div>\n",
              "<style scoped>\n",
              "    .dataframe tbody tr th:only-of-type {\n",
              "        vertical-align: middle;\n",
              "    }\n",
              "\n",
              "    .dataframe tbody tr th {\n",
              "        vertical-align: top;\n",
              "    }\n",
              "\n",
              "    .dataframe thead th {\n",
              "        text-align: right;\n",
              "    }\n",
              "</style>\n",
              "<table border=\"1\" class=\"dataframe\">\n",
              "  <thead>\n",
              "    <tr style=\"text-align: right;\">\n",
              "      <th></th>\n",
              "      <th>Open</th>\n",
              "      <th>High</th>\n",
              "      <th>Low</th>\n",
              "      <th>Adj Close</th>\n",
              "      <th>Volume</th>\n",
              "      <th>VWAP</th>\n",
              "      <th>MA7</th>\n",
              "      <th>MA30</th>\n",
              "      <th>StdDev</th>\n",
              "      <th>Close_Lag1</th>\n",
              "      <th>Close_Lag5</th>\n",
              "      <th>Close_Lag180</th>\n",
              "    </tr>\n",
              "    <tr>\n",
              "      <th>Date</th>\n",
              "      <th></th>\n",
              "      <th></th>\n",
              "      <th></th>\n",
              "      <th></th>\n",
              "      <th></th>\n",
              "      <th></th>\n",
              "      <th></th>\n",
              "      <th></th>\n",
              "      <th></th>\n",
              "      <th></th>\n",
              "      <th></th>\n",
              "      <th></th>\n",
              "    </tr>\n",
              "  </thead>\n",
              "  <tbody>\n",
              "  </tbody>\n",
              "</table>\n",
              "</div>\n",
              "    <div class=\"colab-df-buttons\">\n",
              "\n",
              "  <div class=\"colab-df-container\">\n",
              "    <button class=\"colab-df-convert\" onclick=\"convertToInteractive('df-3ac82acf-5f02-413a-9cb9-3aa7d8285432')\"\n",
              "            title=\"Convert this dataframe to an interactive table.\"\n",
              "            style=\"display:none;\">\n",
              "\n",
              "  <svg xmlns=\"http://www.w3.org/2000/svg\" height=\"24px\" viewBox=\"0 -960 960 960\">\n",
              "    <path d=\"M120-120v-720h720v720H120Zm60-500h600v-160H180v160Zm220 220h160v-160H400v160Zm0 220h160v-160H400v160ZM180-400h160v-160H180v160Zm440 0h160v-160H620v160ZM180-180h160v-160H180v160Zm440 0h160v-160H620v160Z\"/>\n",
              "  </svg>\n",
              "    </button>\n",
              "\n",
              "  <style>\n",
              "    .colab-df-container {\n",
              "      display:flex;\n",
              "      gap: 12px;\n",
              "    }\n",
              "\n",
              "    .colab-df-convert {\n",
              "      background-color: #E8F0FE;\n",
              "      border: none;\n",
              "      border-radius: 50%;\n",
              "      cursor: pointer;\n",
              "      display: none;\n",
              "      fill: #1967D2;\n",
              "      height: 32px;\n",
              "      padding: 0 0 0 0;\n",
              "      width: 32px;\n",
              "    }\n",
              "\n",
              "    .colab-df-convert:hover {\n",
              "      background-color: #E2EBFA;\n",
              "      box-shadow: 0px 1px 2px rgba(60, 64, 67, 0.3), 0px 1px 3px 1px rgba(60, 64, 67, 0.15);\n",
              "      fill: #174EA6;\n",
              "    }\n",
              "\n",
              "    .colab-df-buttons div {\n",
              "      margin-bottom: 4px;\n",
              "    }\n",
              "\n",
              "    [theme=dark] .colab-df-convert {\n",
              "      background-color: #3B4455;\n",
              "      fill: #D2E3FC;\n",
              "    }\n",
              "\n",
              "    [theme=dark] .colab-df-convert:hover {\n",
              "      background-color: #434B5C;\n",
              "      box-shadow: 0px 1px 3px 1px rgba(0, 0, 0, 0.15);\n",
              "      filter: drop-shadow(0px 1px 2px rgba(0, 0, 0, 0.3));\n",
              "      fill: #FFFFFF;\n",
              "    }\n",
              "  </style>\n",
              "\n",
              "    <script>\n",
              "      const buttonEl =\n",
              "        document.querySelector('#df-3ac82acf-5f02-413a-9cb9-3aa7d8285432 button.colab-df-convert');\n",
              "      buttonEl.style.display =\n",
              "        google.colab.kernel.accessAllowed ? 'block' : 'none';\n",
              "\n",
              "      async function convertToInteractive(key) {\n",
              "        const element = document.querySelector('#df-3ac82acf-5f02-413a-9cb9-3aa7d8285432');\n",
              "        const dataTable =\n",
              "          await google.colab.kernel.invokeFunction('convertToInteractive',\n",
              "                                                    [key], {});\n",
              "        if (!dataTable) return;\n",
              "\n",
              "        const docLinkHtml = 'Like what you see? Visit the ' +\n",
              "          '<a target=\"_blank\" href=https://colab.research.google.com/notebooks/data_table.ipynb>data table notebook</a>'\n",
              "          + ' to learn more about interactive tables.';\n",
              "        element.innerHTML = '';\n",
              "        dataTable['output_type'] = 'display_data';\n",
              "        await google.colab.output.renderOutput(dataTable, element);\n",
              "        const docLink = document.createElement('div');\n",
              "        docLink.innerHTML = docLinkHtml;\n",
              "        element.appendChild(docLink);\n",
              "      }\n",
              "    </script>\n",
              "  </div>\n",
              "\n",
              "\n",
              "    </div>\n",
              "  </div>\n"
            ],
            "application/vnd.google.colaboratory.intrinsic+json": {
              "type": "dataframe",
              "variable_name": "x_test",
              "repr_error": "Out of range float values are not JSON compliant: nan"
            }
          },
          "metadata": {},
          "execution_count": 80
        }
      ]
    },
    {
      "cell_type": "code",
      "source": [
        "y_test.head()"
      ],
      "metadata": {
        "colab": {
          "base_uri": "https://localhost:8080/",
          "height": 115
        },
        "id": "pyPHsdaN_X1o",
        "outputId": "5f647d4c-0458-4a47-d5f6-bc59e3aa6bb3"
      },
      "execution_count": null,
      "outputs": [
        {
          "output_type": "execute_result",
          "data": {
            "text/plain": [
              "Series([], Name: Close, dtype: float64)"
            ],
            "text/html": [
              "<div>\n",
              "<style scoped>\n",
              "    .dataframe tbody tr th:only-of-type {\n",
              "        vertical-align: middle;\n",
              "    }\n",
              "\n",
              "    .dataframe tbody tr th {\n",
              "        vertical-align: top;\n",
              "    }\n",
              "\n",
              "    .dataframe thead th {\n",
              "        text-align: right;\n",
              "    }\n",
              "</style>\n",
              "<table border=\"1\" class=\"dataframe\">\n",
              "  <thead>\n",
              "    <tr style=\"text-align: right;\">\n",
              "      <th></th>\n",
              "      <th>Close</th>\n",
              "    </tr>\n",
              "    <tr>\n",
              "      <th>Date</th>\n",
              "      <th></th>\n",
              "    </tr>\n",
              "  </thead>\n",
              "  <tbody>\n",
              "  </tbody>\n",
              "</table>\n",
              "</div><br><label><b>dtype:</b> float64</label>"
            ]
          },
          "metadata": {},
          "execution_count": 79
        }
      ]
    },
    {
      "cell_type": "code",
      "source": [],
      "metadata": {
        "id": "2HevcNKC_0PW"
      },
      "execution_count": null,
      "outputs": []
    }
  ]
}